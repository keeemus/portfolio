{
 "cells": [
  {
   "cell_type": "code",
   "execution_count": 1,
   "id": "26a949ab",
   "metadata": {},
   "outputs": [],
   "source": [
    "import pandas as pd\n",
    "import numpy as np\n",
    "import warnings\n",
    "warnings.filterwarnings(action='ignore')"
   ]
  },
  {
   "cell_type": "code",
   "execution_count": 2,
   "id": "20863f84",
   "metadata": {},
   "outputs": [],
   "source": [
    "# 결측치 특성 제거 최종 데이터셋\n",
    "df_deleted = pd.read_csv('/Users/uisik/Desktop/keepup/project/arrhythmia_prevention/data/df_deleted_final.csv', index_col=0)\n",
    "\n",
    "# 결측치 특성 대체 최종 데이터셋\n",
    "df = pd.read_csv('/Users/uisik/Desktop/keepup/project/arrhythmia_prevention/data/df_final.csv', index_col=0)"
   ]
  },
  {
   "cell_type": "code",
   "execution_count": 3,
   "id": "d11756a9",
   "metadata": {},
   "outputs": [
    {
     "data": {
      "text/html": [
       "<div>\n",
       "<style scoped>\n",
       "    .dataframe tbody tr th:only-of-type {\n",
       "        vertical-align: middle;\n",
       "    }\n",
       "\n",
       "    .dataframe tbody tr th {\n",
       "        vertical-align: top;\n",
       "    }\n",
       "\n",
       "    .dataframe thead th {\n",
       "        text-align: right;\n",
       "    }\n",
       "</style>\n",
       "<table border=\"1\" class=\"dataframe\">\n",
       "  <thead>\n",
       "    <tr style=\"text-align: right;\">\n",
       "      <th></th>\n",
       "      <th>성별코드</th>\n",
       "      <th>연령대</th>\n",
       "      <th>수축기 혈압</th>\n",
       "      <th>이완기 혈압</th>\n",
       "      <th>식전혈당(공복혈당)</th>\n",
       "      <th>흡연상태</th>\n",
       "      <th>음주여부</th>\n",
       "      <th>허리신장비율</th>\n",
       "      <th>위험군</th>\n",
       "    </tr>\n",
       "  </thead>\n",
       "  <tbody>\n",
       "    <tr>\n",
       "      <th>0</th>\n",
       "      <td>1</td>\n",
       "      <td>45</td>\n",
       "      <td>127.0</td>\n",
       "      <td>79.0</td>\n",
       "      <td>90.0</td>\n",
       "      <td>1.0</td>\n",
       "      <td>0.0</td>\n",
       "      <td>0.437</td>\n",
       "      <td>0</td>\n",
       "    </tr>\n",
       "    <tr>\n",
       "      <th>1</th>\n",
       "      <td>2</td>\n",
       "      <td>65</td>\n",
       "      <td>110.0</td>\n",
       "      <td>73.0</td>\n",
       "      <td>87.0</td>\n",
       "      <td>1.0</td>\n",
       "      <td>0.0</td>\n",
       "      <td>0.540</td>\n",
       "      <td>1</td>\n",
       "    </tr>\n",
       "    <tr>\n",
       "      <th>2</th>\n",
       "      <td>2</td>\n",
       "      <td>60</td>\n",
       "      <td>123.0</td>\n",
       "      <td>80.0</td>\n",
       "      <td>102.0</td>\n",
       "      <td>1.0</td>\n",
       "      <td>0.0</td>\n",
       "      <td>0.452</td>\n",
       "      <td>0</td>\n",
       "    </tr>\n",
       "    <tr>\n",
       "      <th>3</th>\n",
       "      <td>1</td>\n",
       "      <td>65</td>\n",
       "      <td>134.0</td>\n",
       "      <td>84.0</td>\n",
       "      <td>146.0</td>\n",
       "      <td>1.0</td>\n",
       "      <td>0.0</td>\n",
       "      <td>0.568</td>\n",
       "      <td>1</td>\n",
       "    </tr>\n",
       "    <tr>\n",
       "      <th>4</th>\n",
       "      <td>2</td>\n",
       "      <td>60</td>\n",
       "      <td>144.0</td>\n",
       "      <td>89.0</td>\n",
       "      <td>110.0</td>\n",
       "      <td>1.0</td>\n",
       "      <td>0.0</td>\n",
       "      <td>0.485</td>\n",
       "      <td>1</td>\n",
       "    </tr>\n",
       "    <tr>\n",
       "      <th>...</th>\n",
       "      <td>...</td>\n",
       "      <td>...</td>\n",
       "      <td>...</td>\n",
       "      <td>...</td>\n",
       "      <td>...</td>\n",
       "      <td>...</td>\n",
       "      <td>...</td>\n",
       "      <td>...</td>\n",
       "      <td>...</td>\n",
       "    </tr>\n",
       "    <tr>\n",
       "      <th>995380</th>\n",
       "      <td>2</td>\n",
       "      <td>65</td>\n",
       "      <td>132.0</td>\n",
       "      <td>78.0</td>\n",
       "      <td>124.0</td>\n",
       "      <td>1.0</td>\n",
       "      <td>0.0</td>\n",
       "      <td>0.559</td>\n",
       "      <td>1</td>\n",
       "    </tr>\n",
       "    <tr>\n",
       "      <th>995381</th>\n",
       "      <td>2</td>\n",
       "      <td>60</td>\n",
       "      <td>100.0</td>\n",
       "      <td>64.0</td>\n",
       "      <td>98.0</td>\n",
       "      <td>1.0</td>\n",
       "      <td>1.0</td>\n",
       "      <td>0.478</td>\n",
       "      <td>0</td>\n",
       "    </tr>\n",
       "    <tr>\n",
       "      <th>995382</th>\n",
       "      <td>1</td>\n",
       "      <td>45</td>\n",
       "      <td>110.0</td>\n",
       "      <td>64.0</td>\n",
       "      <td>83.0</td>\n",
       "      <td>1.0</td>\n",
       "      <td>1.0</td>\n",
       "      <td>0.486</td>\n",
       "      <td>0</td>\n",
       "    </tr>\n",
       "    <tr>\n",
       "      <th>995383</th>\n",
       "      <td>2</td>\n",
       "      <td>45</td>\n",
       "      <td>137.0</td>\n",
       "      <td>82.0</td>\n",
       "      <td>111.0</td>\n",
       "      <td>1.0</td>\n",
       "      <td>0.0</td>\n",
       "      <td>0.569</td>\n",
       "      <td>1</td>\n",
       "    </tr>\n",
       "    <tr>\n",
       "      <th>995384</th>\n",
       "      <td>1</td>\n",
       "      <td>55</td>\n",
       "      <td>133.0</td>\n",
       "      <td>74.0</td>\n",
       "      <td>121.0</td>\n",
       "      <td>2.0</td>\n",
       "      <td>0.0</td>\n",
       "      <td>0.476</td>\n",
       "      <td>0</td>\n",
       "    </tr>\n",
       "  </tbody>\n",
       "</table>\n",
       "<p>995385 rows × 9 columns</p>\n",
       "</div>"
      ],
      "text/plain": [
       "        성별코드  연령대  수축기 혈압  이완기 혈압  식전혈당(공복혈당)  흡연상태  음주여부  허리신장비율  위험군\n",
       "0          1   45   127.0    79.0        90.0   1.0   0.0   0.437    0\n",
       "1          2   65   110.0    73.0        87.0   1.0   0.0   0.540    1\n",
       "2          2   60   123.0    80.0       102.0   1.0   0.0   0.452    0\n",
       "3          1   65   134.0    84.0       146.0   1.0   0.0   0.568    1\n",
       "4          2   60   144.0    89.0       110.0   1.0   0.0   0.485    1\n",
       "...      ...  ...     ...     ...         ...   ...   ...     ...  ...\n",
       "995380     2   65   132.0    78.0       124.0   1.0   0.0   0.559    1\n",
       "995381     2   60   100.0    64.0        98.0   1.0   1.0   0.478    0\n",
       "995382     1   45   110.0    64.0        83.0   1.0   1.0   0.486    0\n",
       "995383     2   45   137.0    82.0       111.0   1.0   0.0   0.569    1\n",
       "995384     1   55   133.0    74.0       121.0   2.0   0.0   0.476    0\n",
       "\n",
       "[995385 rows x 9 columns]"
      ]
     },
     "execution_count": 3,
     "metadata": {},
     "output_type": "execute_result"
    }
   ],
   "source": [
    "df_deleted"
   ]
  },
  {
   "cell_type": "code",
   "execution_count": 4,
   "id": "17d18452",
   "metadata": {},
   "outputs": [
    {
     "data": {
      "text/html": [
       "<div>\n",
       "<style scoped>\n",
       "    .dataframe tbody tr th:only-of-type {\n",
       "        vertical-align: middle;\n",
       "    }\n",
       "\n",
       "    .dataframe tbody tr th {\n",
       "        vertical-align: top;\n",
       "    }\n",
       "\n",
       "    .dataframe thead th {\n",
       "        text-align: right;\n",
       "    }\n",
       "</style>\n",
       "<table border=\"1\" class=\"dataframe\">\n",
       "  <thead>\n",
       "    <tr style=\"text-align: right;\">\n",
       "      <th></th>\n",
       "      <th>성별코드</th>\n",
       "      <th>연령대</th>\n",
       "      <th>수축기 혈압</th>\n",
       "      <th>이완기 혈압</th>\n",
       "      <th>식전혈당(공복혈당)</th>\n",
       "      <th>총 콜레스테롤</th>\n",
       "      <th>중성지방</th>\n",
       "      <th>HDL 콜레스테롤</th>\n",
       "      <th>LDL 콜레스테롤</th>\n",
       "      <th>흡연상태</th>\n",
       "      <th>음주여부</th>\n",
       "      <th>허리신장비율</th>\n",
       "      <th>위험군</th>\n",
       "    </tr>\n",
       "  </thead>\n",
       "  <tbody>\n",
       "    <tr>\n",
       "      <th>0</th>\n",
       "      <td>1.0</td>\n",
       "      <td>45.0</td>\n",
       "      <td>127.0</td>\n",
       "      <td>79.0</td>\n",
       "      <td>90.0</td>\n",
       "      <td>188.000000</td>\n",
       "      <td>58.000000</td>\n",
       "      <td>58.000000</td>\n",
       "      <td>118.000000</td>\n",
       "      <td>1.0</td>\n",
       "      <td>0.0</td>\n",
       "      <td>0.437</td>\n",
       "      <td>0</td>\n",
       "    </tr>\n",
       "    <tr>\n",
       "      <th>1</th>\n",
       "      <td>2.0</td>\n",
       "      <td>65.0</td>\n",
       "      <td>110.0</td>\n",
       "      <td>73.0</td>\n",
       "      <td>87.0</td>\n",
       "      <td>196.326753</td>\n",
       "      <td>107.014421</td>\n",
       "      <td>58.551332</td>\n",
       "      <td>116.408854</td>\n",
       "      <td>1.0</td>\n",
       "      <td>0.0</td>\n",
       "      <td>0.540</td>\n",
       "      <td>0</td>\n",
       "    </tr>\n",
       "    <tr>\n",
       "      <th>2</th>\n",
       "      <td>2.0</td>\n",
       "      <td>60.0</td>\n",
       "      <td>123.0</td>\n",
       "      <td>80.0</td>\n",
       "      <td>102.0</td>\n",
       "      <td>200.062149</td>\n",
       "      <td>103.676066</td>\n",
       "      <td>63.191703</td>\n",
       "      <td>116.211756</td>\n",
       "      <td>1.0</td>\n",
       "      <td>0.0</td>\n",
       "      <td>0.452</td>\n",
       "      <td>0</td>\n",
       "    </tr>\n",
       "    <tr>\n",
       "      <th>3</th>\n",
       "      <td>1.0</td>\n",
       "      <td>65.0</td>\n",
       "      <td>134.0</td>\n",
       "      <td>84.0</td>\n",
       "      <td>146.0</td>\n",
       "      <td>194.115555</td>\n",
       "      <td>169.881706</td>\n",
       "      <td>47.216657</td>\n",
       "      <td>113.175586</td>\n",
       "      <td>1.0</td>\n",
       "      <td>0.0</td>\n",
       "      <td>0.568</td>\n",
       "      <td>2</td>\n",
       "    </tr>\n",
       "    <tr>\n",
       "      <th>4</th>\n",
       "      <td>2.0</td>\n",
       "      <td>60.0</td>\n",
       "      <td>144.0</td>\n",
       "      <td>89.0</td>\n",
       "      <td>110.0</td>\n",
       "      <td>220.000000</td>\n",
       "      <td>171.000000</td>\n",
       "      <td>53.000000</td>\n",
       "      <td>133.000000</td>\n",
       "      <td>1.0</td>\n",
       "      <td>0.0</td>\n",
       "      <td>0.485</td>\n",
       "      <td>2</td>\n",
       "    </tr>\n",
       "    <tr>\n",
       "      <th>...</th>\n",
       "      <td>...</td>\n",
       "      <td>...</td>\n",
       "      <td>...</td>\n",
       "      <td>...</td>\n",
       "      <td>...</td>\n",
       "      <td>...</td>\n",
       "      <td>...</td>\n",
       "      <td>...</td>\n",
       "      <td>...</td>\n",
       "      <td>...</td>\n",
       "      <td>...</td>\n",
       "      <td>...</td>\n",
       "      <td>...</td>\n",
       "    </tr>\n",
       "    <tr>\n",
       "      <th>979698</th>\n",
       "      <td>2.0</td>\n",
       "      <td>65.0</td>\n",
       "      <td>132.0</td>\n",
       "      <td>78.0</td>\n",
       "      <td>124.0</td>\n",
       "      <td>178.000000</td>\n",
       "      <td>301.000000</td>\n",
       "      <td>43.000000</td>\n",
       "      <td>75.000000</td>\n",
       "      <td>1.0</td>\n",
       "      <td>0.0</td>\n",
       "      <td>0.559</td>\n",
       "      <td>3</td>\n",
       "    </tr>\n",
       "    <tr>\n",
       "      <th>979699</th>\n",
       "      <td>2.0</td>\n",
       "      <td>60.0</td>\n",
       "      <td>100.0</td>\n",
       "      <td>64.0</td>\n",
       "      <td>98.0</td>\n",
       "      <td>288.000000</td>\n",
       "      <td>93.000000</td>\n",
       "      <td>71.000000</td>\n",
       "      <td>198.000000</td>\n",
       "      <td>1.0</td>\n",
       "      <td>1.0</td>\n",
       "      <td>0.478</td>\n",
       "      <td>2</td>\n",
       "    </tr>\n",
       "    <tr>\n",
       "      <th>979700</th>\n",
       "      <td>1.0</td>\n",
       "      <td>45.0</td>\n",
       "      <td>110.0</td>\n",
       "      <td>64.0</td>\n",
       "      <td>83.0</td>\n",
       "      <td>194.434857</td>\n",
       "      <td>114.836737</td>\n",
       "      <td>55.330437</td>\n",
       "      <td>116.471475</td>\n",
       "      <td>1.0</td>\n",
       "      <td>1.0</td>\n",
       "      <td>0.486</td>\n",
       "      <td>0</td>\n",
       "    </tr>\n",
       "    <tr>\n",
       "      <th>979701</th>\n",
       "      <td>2.0</td>\n",
       "      <td>45.0</td>\n",
       "      <td>137.0</td>\n",
       "      <td>82.0</td>\n",
       "      <td>111.0</td>\n",
       "      <td>208.000000</td>\n",
       "      <td>113.000000</td>\n",
       "      <td>59.000000</td>\n",
       "      <td>126.000000</td>\n",
       "      <td>1.0</td>\n",
       "      <td>0.0</td>\n",
       "      <td>0.569</td>\n",
       "      <td>0</td>\n",
       "    </tr>\n",
       "    <tr>\n",
       "      <th>979702</th>\n",
       "      <td>1.0</td>\n",
       "      <td>55.0</td>\n",
       "      <td>133.0</td>\n",
       "      <td>74.0</td>\n",
       "      <td>121.0</td>\n",
       "      <td>237.000000</td>\n",
       "      <td>63.000000</td>\n",
       "      <td>68.000000</td>\n",
       "      <td>156.000000</td>\n",
       "      <td>2.0</td>\n",
       "      <td>0.0</td>\n",
       "      <td>0.476</td>\n",
       "      <td>0</td>\n",
       "    </tr>\n",
       "  </tbody>\n",
       "</table>\n",
       "<p>979703 rows × 13 columns</p>\n",
       "</div>"
      ],
      "text/plain": [
       "        성별코드   연령대  수축기 혈압  이완기 혈압  식전혈당(공복혈당)     총 콜레스테롤        중성지방  \\\n",
       "0        1.0  45.0   127.0    79.0        90.0  188.000000   58.000000   \n",
       "1        2.0  65.0   110.0    73.0        87.0  196.326753  107.014421   \n",
       "2        2.0  60.0   123.0    80.0       102.0  200.062149  103.676066   \n",
       "3        1.0  65.0   134.0    84.0       146.0  194.115555  169.881706   \n",
       "4        2.0  60.0   144.0    89.0       110.0  220.000000  171.000000   \n",
       "...      ...   ...     ...     ...         ...         ...         ...   \n",
       "979698   2.0  65.0   132.0    78.0       124.0  178.000000  301.000000   \n",
       "979699   2.0  60.0   100.0    64.0        98.0  288.000000   93.000000   \n",
       "979700   1.0  45.0   110.0    64.0        83.0  194.434857  114.836737   \n",
       "979701   2.0  45.0   137.0    82.0       111.0  208.000000  113.000000   \n",
       "979702   1.0  55.0   133.0    74.0       121.0  237.000000   63.000000   \n",
       "\n",
       "        HDL 콜레스테롤   LDL 콜레스테롤  흡연상태  음주여부  허리신장비율  위험군  \n",
       "0       58.000000  118.000000   1.0   0.0   0.437    0  \n",
       "1       58.551332  116.408854   1.0   0.0   0.540    0  \n",
       "2       63.191703  116.211756   1.0   0.0   0.452    0  \n",
       "3       47.216657  113.175586   1.0   0.0   0.568    2  \n",
       "4       53.000000  133.000000   1.0   0.0   0.485    2  \n",
       "...           ...         ...   ...   ...     ...  ...  \n",
       "979698  43.000000   75.000000   1.0   0.0   0.559    3  \n",
       "979699  71.000000  198.000000   1.0   1.0   0.478    2  \n",
       "979700  55.330437  116.471475   1.0   1.0   0.486    0  \n",
       "979701  59.000000  126.000000   1.0   0.0   0.569    0  \n",
       "979702  68.000000  156.000000   2.0   0.0   0.476    0  \n",
       "\n",
       "[979703 rows x 13 columns]"
      ]
     },
     "execution_count": 4,
     "metadata": {},
     "output_type": "execute_result"
    }
   ],
   "source": [
    "df"
   ]
  },
  {
   "cell_type": "markdown",
   "id": "72b7f4da",
   "metadata": {},
   "source": [
    "## 모델링을 위한 데이터셋 세팅\n",
    "\n",
    "\n",
    "### 타겟 특성이 총 5개의 클래스로 구성되어있으므로 다중분류 모델 사용    "
   ]
  },
  {
   "cell_type": "code",
   "execution_count": 6,
   "id": "fb91b789",
   "metadata": {},
   "outputs": [],
   "source": [
    "# 변수와 타겟 설정\n",
    "\n",
    "# 결측치 제거 모델 변수\n",
    "features_deleted = df_deleted.iloc[:, 0:8].columns.tolist()\n",
    "\n",
    "# 결측치 대체 모델 변수\n",
    "features = df.iloc[:, 0:12].columns.tolist()\n",
    "\n",
    "# 타겟 특성은 동일하게 설정\n",
    "target = '위험군'"
   ]
  },
  {
   "cell_type": "code",
   "execution_count": 7,
   "id": "7cf60c26",
   "metadata": {},
   "outputs": [],
   "source": [
    "# 변수의 범위가 모두 다르므로 정규화 진행\n",
    "\n",
    "from sklearn.preprocessing import StandardScaler\n",
    "\n",
    "# 표준 스케일러(평균 0, 분산 1)\n",
    "scaler = StandardScaler()\n",
    "\n",
    "# 변수 및 타겟 분리\n",
    "\n",
    "# 결측치 제거 데이터셋\n",
    "X_deleted = df_deleted[features_deleted]\n",
    "y_deleted = df_deleted[target]\n",
    "\n",
    "# 결측치 대체 데이터셋\n",
    "X = df[features]\n",
    "y = df[target]\n",
    "\n",
    "# 변수 데이터 스케일링\n",
    "X_scaled_deleted = scaler.fit_transform(X_deleted)\n",
    "X_scaled = scaler.fit_transform(X)"
   ]
  },
  {
   "cell_type": "code",
   "execution_count": 8,
   "id": "fe949503",
   "metadata": {},
   "outputs": [
    {
     "name": "stdout",
     "output_type": "stream",
     "text": [
      "결측치 제거 훈련 데이터 : (696769, 8) (696769,)\n",
      "결측치 제거 테스트 데이터 : (298616, 8) (298616,)\n",
      "\n",
      "결측치 대체 훈련 데이터 : (783762, 12) (783762,)\n",
      "결측치 대체 테스트 데이터 : (195941, 12) (195941,)\n"
     ]
    }
   ],
   "source": [
    "# 모델 훈련과 검증을 위한 데이터셋 나누기(train, test)\n",
    "from sklearn.model_selection import train_test_split\n",
    "\n",
    "# 결측치 제거 데이터셋\n",
    "X_train_deleted, X_test_deleted, y_train_deleted, y_test_deleted = train_test_split(X_scaled_deleted, y_deleted, test_size=0.3, random_state=77)\n",
    "\n",
    "# 결측치 대체 데이터셋\n",
    "X_train, X_test, y_train, y_test = train_test_split(X_scaled, y, test_size=0.2, random_state=77)\n",
    "\n",
    "print('결측치 제거 훈련 데이터 :', X_train_deleted.shape, y_train_deleted.shape)\n",
    "print('결측치 제거 테스트 데이터 :', X_test_deleted.shape, y_test_deleted.shape)\n",
    "print()\n",
    "print('결측치 대체 훈련 데이터 :', X_train.shape, y_train.shape)\n",
    "print('결측치 대체 테스트 데이터 :', X_test.shape, y_test.shape)"
   ]
  },
  {
   "cell_type": "code",
   "execution_count": 9,
   "id": "d1e33eab",
   "metadata": {},
   "outputs": [
    {
     "name": "stdout",
     "output_type": "stream",
     "text": [
      "클래스 : [0 1 2 3 4]\n",
      "클래스 수: 5\n",
      "\n",
      "클래스 : [0 2 1 4 3]\n",
      "클래스 수: 5\n"
     ]
    }
   ],
   "source": [
    "# 클래스 확인\n",
    "\n",
    "print('클래스 :', df_deleted.iloc[:, 8].unique())\n",
    "print('클래스 수:', len(df_deleted.iloc[:, 8].unique()))\n",
    "print()\n",
    "print('클래스 :', df.iloc[:, 12].unique())\n",
    "print('클래스 수:', len(df.iloc[:, 12].unique()))"
   ]
  },
  {
   "cell_type": "code",
   "execution_count": 10,
   "id": "e8d64f60",
   "metadata": {
    "scrolled": false
   },
   "outputs": [
    {
     "data": {
      "image/png": "[encoded data removed]",
      "text/plain": [
       "<Figure size 720x720 with 1 Axes>"
      ]
     },
     "metadata": {},
     "output_type": "display_data"
    },
    {
     "data": {
      "image/png": "[encoded data removed]",
      "text/plain": [
       "<Figure size 432x288 with 1 Axes>"
      ]
     },
     "metadata": {},
     "output_type": "display_data"
    }
   ],
   "source": [
    "# 클래스 분포 시각화\n",
    "import matplotlib.pyplot as plt\n",
    "import seaborn as sns\n",
    "\n",
    "plt.rcParams['font.family'] = 'AppleGothic'\n",
    "\n",
    "# 결측치 제거 타겟데이터 비율\n",
    "class_ratio_deleted = df_deleted['위험군'].value_counts()\n",
    "\n",
    "# 결측치 대체 타겟데이터 비율\n",
    "class_ratio = df['위험군'].value_counts()\n",
    "\n",
    "\n",
    "plt.figure(figsize=(10,10))\n",
    "\n",
    "# 결측치 대체 타겟 데이터 비율\n",
    "plt.pie(class_ratio,\n",
    "        labels=['정상군','저위험군','중등도 위험군','고위험군','극위험군'],\n",
    "        colors=['#40FF40', '#F4AAAA','#F07878', '#F06066', '#F08C8C'], autopct='%.1f%%')\n",
    "plt.title('결측치 대체 후 타겟데이터 분포', fontsize=15)\n",
    "plt.show()\n",
    "\n",
    "# 결측치 제거 타겟 데이터 비율\n",
    "plt.pie(class_ratio_deleted,\n",
    "        labels=['정상군','저위험군','중등도 위험군','고위험군','극위험군'],\n",
    "        colors=['#40FF40', '#F4AAAA','#F07878', '#F06066', '#F08C8C'], autopct='%.1f%%')\n",
    "plt.title('결측치 제거 후 타겟데이터 분포', fontsize=15)\n",
    "plt.show()\n",
    "\n"
   ]
  },
  {
   "cell_type": "markdown",
   "id": "a85bf324",
   "metadata": {},
   "source": [
    "## 신경망 모델(베이스 모델)\n",
    "\n",
    "#### 베이스 모델로 딥러닝 모델을 선택한 이유\n",
    "\n",
    "신경망 모델은 데이터에서 필요한 특성을 알아서 조합하여 찾아내기 때문에 최소한의 전처리만 수행한 후 모델링을 진행해도 **기본적인 성능이 보장됨**</br>\n",
    "\n",
    "이와 다르게 머신러닝 모델은 데이터셋이 가진 특성을 최대한 파악한 후 가장 중요한 특성을 직접 찾아내고 설계해야하는 전처리과정을 거쳐야 모델의 성능을 확보할 수 있음\n",
    "\n",
    "이렇게 스스로 특성 관계를 찾아내는 것을 표현 학습(Representation Learning)이라고 함\n",
    "\n",
    "앞서 임상에 사용되는 기준에 따라 전처리까지 진행했기 때문에 좋은 성능을 기대해볼 수 있다고 생각하여 베이스 모델로 채택했고 다른 머신러닝 모델과 성능 비교후 최종 모델 채택"
   ]
  },
  {
   "cell_type": "code",
   "execution_count": 12,
   "id": "61b819d3",
   "metadata": {},
   "outputs": [],
   "source": [
    "tf.config.run_functions_eagerly(True)"
   ]
  },
  {
   "cell_type": "code",
   "execution_count": 11,
   "id": "32cb97a8",
   "metadata": {},
   "outputs": [
    {
     "name": "stdout",
     "output_type": "stream",
     "text": [
      "Metal device set to: Apple M1 Pro\n"
     ]
    },
    {
     "name": "stderr",
     "output_type": "stream",
     "text": [
      "2022-07-06 01:39:03.785737: I tensorflow/core/common_runtime/pluggable_device/pluggable_device_factory.cc:305] Could not identify NUMA node of platform GPU ID 0, defaulting to 0. Your kernel may not have been built with NUMA support.\n",
      "2022-07-06 01:39:03.786040: I tensorflow/core/common_runtime/pluggable_device/pluggable_device_factory.cc:271] Created TensorFlow device (/job:localhost/replica:0/task:0/device:GPU:0 with 0 MB memory) -> physical PluggableDevice (device: 0, name: METAL, pci bus id: <undefined>)\n"
     ]
    }
   ],
   "source": [
    "from tensorflow.keras.models import Sequential\n",
    "from tensorflow.keras.layers import Dense\n",
    "import tensorflow as tf\n",
    "\n",
    "# 가중치 초기화\n",
    "initializer = tf.keras.initializers.he_normal()\n",
    "\n",
    "# 모델 구축\n",
    "# 결측치 제거 모델\n",
    "nn_deleted = Sequential()\n",
    "nn_deleted.add(Dense(20, input_dim=8, kernel_initializer=initializer, activation='relu'))\n",
    "nn_deleted.add(Dense(30, activation='relu'))\n",
    "nn_deleted.add(Dense(5, activation='softmax'))\n",
    "nn_deleted.compile(loss='sparse_categorical_crossentropy', optimizer='adam', metrics=['accuracy'])\n",
    "\n",
    "# 결측치 대체 모델\n",
    "# 입력 차원(input_dim) 차이\n",
    "nn = Sequential()\n",
    "nn.add(Dense(20, input_dim=12, kernel_initializer=initializer, activation='relu'))\n",
    "nn.add(Dense(30, activation='relu'))\n",
    "nn.add(Dense(5, activation='softmax'))\n",
    "nn.compile(loss='sparse_categorical_crossentropy', optimizer='adam', metrics=['accuracy'])"
   ]
  },
  {
   "cell_type": "code",
   "execution_count": 13,
   "id": "60ab3b42",
   "metadata": {
    "scrolled": false
   },
   "outputs": [
    {
     "name": "stdout",
     "output_type": "stream",
     "text": [
      "Epoch 1/10\n"
     ]
    },
    {
     "name": "stderr",
     "output_type": "stream",
     "text": [
      "2022-07-06 01:39:21.315025: W tensorflow/core/platform/profile_utils/cpu_utils.cc:128] Failed to get CPU frequency: 0 Hz\n"
     ]
    },
    {
     "name": "stdout",
     "output_type": "stream",
     "text": [
      "1626/1626 - 20s - loss: 0.3577 - accuracy: 0.8564 - val_loss: 0.2504 - val_accuracy: 0.8935 - 20s/epoch - 12ms/step\n",
      "Epoch 2/10\n",
      "1626/1626 - 21s - loss: 0.2311 - accuracy: 0.9027 - val_loss: 0.2138 - val_accuracy: 0.9115 - 21s/epoch - 13ms/step\n",
      "Epoch 3/10\n",
      "1626/1626 - 21s - loss: 0.2026 - accuracy: 0.9158 - val_loss: 0.1906 - val_accuracy: 0.9215 - 21s/epoch - 13ms/step\n",
      "Epoch 4/10\n",
      "1626/1626 - 21s - loss: 0.1818 - accuracy: 0.9258 - val_loss: 0.1733 - val_accuracy: 0.9292 - 21s/epoch - 13ms/step\n",
      "Epoch 5/10\n",
      "1626/1626 - 21s - loss: 0.1627 - accuracy: 0.9348 - val_loss: 0.1539 - val_accuracy: 0.9395 - 21s/epoch - 13ms/step\n",
      "Epoch 6/10\n",
      "1626/1626 - 21s - loss: 0.1477 - accuracy: 0.9417 - val_loss: 0.1399 - val_accuracy: 0.9459 - 21s/epoch - 13ms/step\n",
      "Epoch 7/10\n",
      "1626/1626 - 22s - loss: 0.1363 - accuracy: 0.9467 - val_loss: 0.1303 - val_accuracy: 0.9497 - 22s/epoch - 13ms/step\n",
      "Epoch 8/10\n",
      "1626/1626 - 20s - loss: 0.1259 - accuracy: 0.9511 - val_loss: 0.1208 - val_accuracy: 0.9542 - 20s/epoch - 12ms/step\n",
      "Epoch 9/10\n",
      "1626/1626 - 21s - loss: 0.1173 - accuracy: 0.9551 - val_loss: 0.1136 - val_accuracy: 0.9573 - 21s/epoch - 13ms/step\n",
      "Epoch 10/10\n",
      "1626/1626 - 21s - loss: 0.1102 - accuracy: 0.9581 - val_loss: 0.1077 - val_accuracy: 0.9595 - 21s/epoch - 13ms/step\n"
     ]
    }
   ],
   "source": [
    "# 모델 학습\n",
    "\n",
    "# 결측치 제거 모델\n",
    "history_deleted = nn_deleted.fit(X_train_deleted, y_train_deleted, batch_size=300, epochs=10, verbose=2, validation_split=0.3)"
   ]
  },
  {
   "cell_type": "code",
   "execution_count": 15,
   "id": "3bf6dd2c",
   "metadata": {},
   "outputs": [
    {
     "name": "stdout",
     "output_type": "stream",
     "text": [
      "Epoch 1/10\n",
      "1829/1829 - 22s - loss: 0.3562 - accuracy: 0.8434 - val_loss: 0.3561 - val_accuracy: 0.8422 - 22s/epoch - 12ms/step\n",
      "Epoch 2/10\n",
      "1829/1829 - 21s - loss: 0.3504 - accuracy: 0.8457 - val_loss: 0.3505 - val_accuracy: 0.8442 - 21s/epoch - 12ms/step\n",
      "Epoch 3/10\n",
      "1829/1829 - 21s - loss: 0.3462 - accuracy: 0.8476 - val_loss: 0.3453 - val_accuracy: 0.8464 - 21s/epoch - 12ms/step\n",
      "Epoch 4/10\n",
      "1829/1829 - 21s - loss: 0.3424 - accuracy: 0.8493 - val_loss: 0.3431 - val_accuracy: 0.8478 - 21s/epoch - 12ms/step\n",
      "Epoch 5/10\n",
      "1829/1829 - 21s - loss: 0.3392 - accuracy: 0.8505 - val_loss: 0.3380 - val_accuracy: 0.8507 - 21s/epoch - 12ms/step\n",
      "Epoch 6/10\n",
      "1829/1829 - 21s - loss: 0.3365 - accuracy: 0.8521 - val_loss: 0.3372 - val_accuracy: 0.8508 - 21s/epoch - 12ms/step\n",
      "Epoch 7/10\n",
      "1829/1829 - 21s - loss: 0.3338 - accuracy: 0.8532 - val_loss: 0.3339 - val_accuracy: 0.8531 - 21s/epoch - 12ms/step\n",
      "Epoch 8/10\n",
      "1829/1829 - 21s - loss: 0.3312 - accuracy: 0.8545 - val_loss: 0.3334 - val_accuracy: 0.8526 - 21s/epoch - 12ms/step\n",
      "Epoch 9/10\n",
      "1829/1829 - 21s - loss: 0.3285 - accuracy: 0.8558 - val_loss: 0.3287 - val_accuracy: 0.8554 - 21s/epoch - 12ms/step\n",
      "Epoch 10/10\n",
      "1829/1829 - 21s - loss: 0.3258 - accuracy: 0.8574 - val_loss: 0.3270 - val_accuracy: 0.8566 - 21s/epoch - 12ms/step\n"
     ]
    }
   ],
   "source": [
    "# 결측치 대체 모델\n",
    "history = nn.fit(X_train, y_train, batch_size=300, epochs=10, verbose=2, validation_split=0.3)"
   ]
  },
  {
   "cell_type": "code",
   "execution_count": 16,
   "id": "564c96d4",
   "metadata": {},
   "outputs": [
    {
     "name": "stdout",
     "output_type": "stream",
     "text": [
      "9332/9332 [==============================] - 16s 2ms/step\n",
      "6124/6124 [==============================] - 10s 2ms/step\n"
     ]
    }
   ],
   "source": [
    "# 성능 파악을 위한 예측값 저장\n",
    "\n",
    "# 결측치 제거 모델\n",
    "nn_deleted_predict = nn_deleted.predict(X_test_deleted)\n",
    "\n",
    "# 결측치 대체 모델\n",
    "nn_predict = nn.predict(X_test)"
   ]
  },
  {
   "cell_type": "code",
   "execution_count": 17,
   "id": "31af338f",
   "metadata": {},
   "outputs": [
    {
     "name": "stdout",
     "output_type": "stream",
     "text": [
      "결측치 제거 모델 리포트 : \n",
      "               precision    recall  f1-score   support\n",
      "\n",
      "           0       0.98      0.98      0.98    160175\n",
      "           1       0.94      0.96      0.95    107609\n",
      "           2       0.92      0.86      0.89     29299\n",
      "           3       0.72      0.63      0.67      1371\n",
      "           4       0.57      0.30      0.39       162\n",
      "\n",
      "    accuracy                           0.96    298616\n",
      "   macro avg       0.83      0.74      0.78    298616\n",
      "weighted avg       0.96      0.96      0.96    298616\n",
      " \n",
      "\n",
      "결측치 대체 모델 리포트 : \n",
      "               precision    recall  f1-score   support\n",
      "\n",
      "           0       0.95      0.96      0.96    128182\n",
      "           1       0.68      0.63      0.65     28265\n",
      "           2       0.61      0.68      0.64     18508\n",
      "           3       0.61      0.57      0.59     10946\n",
      "           4       0.85      0.80      0.83     10040\n",
      "\n",
      "    accuracy                           0.86    195941\n",
      "   macro avg       0.74      0.73      0.73    195941\n",
      "weighted avg       0.86      0.86      0.86    195941\n",
      " \n",
      "\n"
     ]
    }
   ],
   "source": [
    "# 정밀도, 재현율, 조화평균 파악\n",
    "from sklearn.metrics import classification_report\n",
    "\n",
    "# 결측치 제거 모델 리포트\n",
    "nn_deleted_report = classification_report(y_test_deleted, np.argmax(nn_deleted_predict, axis=1))\n",
    "\n",
    "# 결측치 대체 모델 리포트\n",
    "nn_report = classification_report(y_test, np.argmax(nn_predict, axis=1))\n",
    "\n",
    "print(f'결측치 제거 모델 리포트 : \\n {nn_deleted_report} \\n')\n",
    "print(f'결측치 대체 모델 리포트 : \\n {nn_report} \\n')"
   ]
  },
  {
   "cell_type": "markdown",
   "id": "a46256df",
   "metadata": {},
   "source": [
    "<center>\n",
    "    신경망 모델 성능 비교</br>\n",
    "\n",
    "|결측치 처리 방법|정확도|macro avg of f1-score|weighted avg of f1-score|\n",
    "|---|---|---|---|\n",
    "|결측치 제거|0.9|0.78|0.96|\n",
    "|결측치 대체|0.86|0.73|0.86|</center>\n",
    "\n",
    "**macro avg** : 각 클래스에 대한 f1-score를 계산한 뒤 단순한 산술평균을 내어 f1-score를 계산한 값</br>\n",
    "**weighted avg** : 각 클래스에 대한 f1-score를 계산한 뒤 각 클래스 별 데이터 비율에 따른 가중 평균을 내어 f1-score를 계산한 값"
   ]
  },
  {
   "cell_type": "markdown",
   "id": "6c855633",
   "metadata": {},
   "source": [
    "#### 신경망 모델 평가 \n",
    "\n",
    "1. 데이터가 많이 확보된 클래스에 대해서만 좋은 성능을 보여주고 고위험군, 극위험군은 분류를 제대로 하지 못함\n",
    "2. 결측치를 대체한 데이터셋을 활용했을 때 예측에 활용할 수 있는 데이터가 더 많고 지질관련 특성이라 성능이 더 좋게 나올 것이라 생각했는데 정반대의 결과가 나옴\n",
    "3. 다른 모델에도 적용해보고 어떤 데이터셋으로 모델링 진행할지 결정"
   ]
  },
  {
   "cell_type": "markdown",
   "id": "ed489293",
   "metadata": {},
   "source": [
    "## 로지스틱 회귀 모델\n",
    "\n",
    "\n",
    "기본적인 선형 모델 중 유일하게 다중분류를 지원하는 모델이기 때문에 시도</br>"
   ]
  },
  {
   "cell_type": "code",
   "execution_count": 18,
   "id": "d01026a1",
   "metadata": {},
   "outputs": [
    {
     "data": {
      "text/html": [
       "<style>#sk-container-id-1 {color: black;background-color: white;}#sk-container-id-1 pre{padding: 0;}#sk-container-id-1 div.sk-toggleable {background-color: white;}#sk-container-id-1 label.sk-toggleable__label {cursor: pointer;display: block;width: 100%;margin-bottom: 0;padding: 0.3em;box-sizing: border-box;text-align: center;}#sk-container-id-1 label.sk-toggleable__label-arrow:before {content: \"▸\";float: left;margin-right: 0.25em;color: #696969;}#sk-container-id-1 label.sk-toggleable__label-arrow:hover:before {color: black;}#sk-container-id-1 div.sk-estimator:hover label.sk-toggleable__label-arrow:before {color: black;}#sk-container-id-1 div.sk-toggleable__content {max-height: 0;max-width: 0;overflow: hidden;text-align: left;background-color: #f0f8ff;}#sk-container-id-1 div.sk-toggleable__content pre {margin: 0.2em;color: black;border-radius: 0.25em;background-color: #f0f8ff;}#sk-container-id-1 input.sk-toggleable__control:checked~div.sk-toggleable__content {max-height: 200px;max-width: 100%;overflow: auto;}#sk-container-id-1 input.sk-toggleable__control:checked~label.sk-toggleable__label-arrow:before {content: \"▾\";}#sk-container-id-1 div.sk-estimator input.sk-toggleable__control:checked~label.sk-toggleable__label {background-color: #d4ebff;}#sk-container-id-1 div.sk-label input.sk-toggleable__control:checked~label.sk-toggleable__label {background-color: #d4ebff;}#sk-container-id-1 input.sk-hidden--visually {border: 0;clip: rect(1px 1px 1px 1px);clip: rect(1px, 1px, 1px, 1px);height: 1px;margin: -1px;overflow: hidden;padding: 0;position: absolute;width: 1px;}#sk-container-id-1 div.sk-estimator {font-family: monospace;background-color: #f0f8ff;border: 1px dotted black;border-radius: 0.25em;box-sizing: border-box;margin-bottom: 0.5em;}#sk-container-id-1 div.sk-estimator:hover {background-color: #d4ebff;}#sk-container-id-1 div.sk-parallel-item::after {content: \"\";width: 100%;border-bottom: 1px solid gray;flex-grow: 1;}#sk-container-id-1 div.sk-label:hover label.sk-toggleable__label {background-color: #d4ebff;}#sk-container-id-1 div.sk-serial::before {content: \"\";position: absolute;border-left: 1px solid gray;box-sizing: border-box;top: 0;bottom: 0;left: 50%;z-index: 0;}#sk-container-id-1 div.sk-serial {display: flex;flex-direction: column;align-items: center;background-color: white;padding-right: 0.2em;padding-left: 0.2em;position: relative;}#sk-container-id-1 div.sk-item {position: relative;z-index: 1;}#sk-container-id-1 div.sk-parallel {display: flex;align-items: stretch;justify-content: center;background-color: white;position: relative;}#sk-container-id-1 div.sk-item::before, #sk-container-id-1 div.sk-parallel-item::before {content: \"\";position: absolute;border-left: 1px solid gray;box-sizing: border-box;top: 0;bottom: 0;left: 50%;z-index: -1;}#sk-container-id-1 div.sk-parallel-item {display: flex;flex-direction: column;z-index: 1;position: relative;background-color: white;}#sk-container-id-1 div.sk-parallel-item:first-child::after {align-self: flex-end;width: 50%;}#sk-container-id-1 div.sk-parallel-item:last-child::after {align-self: flex-start;width: 50%;}#sk-container-id-1 div.sk-parallel-item:only-child::after {width: 0;}#sk-container-id-1 div.sk-dashed-wrapped {border: 1px dashed gray;margin: 0 0.4em 0.5em 0.4em;box-sizing: border-box;padding-bottom: 0.4em;background-color: white;}#sk-container-id-1 div.sk-label label {font-family: monospace;font-weight: bold;display: inline-block;line-height: 1.2em;}#sk-container-id-1 div.sk-label-container {text-align: center;}#sk-container-id-1 div.sk-container {/* jupyter's `normalize.less` sets `[hidden] { display: none; }` but bootstrap.min.css set `[hidden] { display: none !important; }` so we also need the `!important` here to be able to override the default hidden behavior on the sphinx rendered scikit-learn.org. See: https://github.com/scikit-learn/scikit-learn/issues/21755 */display: inline-block !important;position: relative;}#sk-container-id-1 div.sk-text-repr-fallback {display: none;}</style><div id=\"sk-container-id-1\" class=\"sk-top-container\"><div class=\"sk-text-repr-fallback\"><pre>LogisticRegression(C=20, random_state=77)</pre><b>In a Jupyter environment, please rerun this cell to show the HTML representation or trust the notebook. <br />On GitHub, the HTML representation is unable to render, please try loading this page with nbviewer.org.</b></div><div class=\"sk-container\" hidden><div class=\"sk-item\"><div class=\"sk-estimator sk-toggleable\"><input class=\"sk-toggleable__control sk-hidden--visually\" id=\"sk-estimator-id-1\" type=\"checkbox\" checked><label for=\"sk-estimator-id-1\" class=\"sk-toggleable__label sk-toggleable__label-arrow\">LogisticRegression</label><div class=\"sk-toggleable__content\"><pre>LogisticRegression(C=20, random_state=77)</pre></div></div></div></div></div>"
      ],
      "text/plain": [
       "LogisticRegression(C=20, random_state=77)"
      ]
     },
     "execution_count": 18,
     "metadata": {},
     "output_type": "execute_result"
    }
   ],
   "source": [
    "from sklearn.linear_model import LogisticRegression\n",
    "\n",
    "# 결측치 제거 모델 학습\n",
    "lr_deleted = LogisticRegression(C=20, max_iter=100, random_state=77)\n",
    "lr_deleted.fit(X_train_deleted, y_train_deleted)\n",
    "\n",
    "# 결측치 대체 모델 학습\n",
    "lr = LogisticRegression(C=20, max_iter=100, random_state=77)\n",
    "lr.fit(X_train, y_train)"
   ]
  },
  {
   "cell_type": "code",
   "execution_count": 19,
   "id": "29bd5e7c",
   "metadata": {},
   "outputs": [],
   "source": [
    "# 결측치 제거 모델 예측값\n",
    "lr_deleted_predict = lr_deleted.predict(X_test_deleted)\n",
    "\n",
    "# 결측치 대체 모델 예측값\n",
    "lr_predict = lr.predict(X_test)"
   ]
  },
  {
   "cell_type": "code",
   "execution_count": 20,
   "id": "1f3b258c",
   "metadata": {
    "scrolled": false
   },
   "outputs": [
    {
     "name": "stdout",
     "output_type": "stream",
     "text": [
      "결측치 제거 모델 리포트 : \n",
      "               precision    recall  f1-score   support\n",
      "\n",
      "           0       0.90      0.91      0.91    160175\n",
      "           1       0.77      0.80      0.78    107609\n",
      "           2       0.72      0.58      0.65     29299\n",
      "           3       0.40      0.08      0.14      1371\n",
      "           4       0.43      0.10      0.16       162\n",
      "\n",
      "    accuracy                           0.84    298616\n",
      "   macro avg       0.64      0.50      0.53    298616\n",
      "weighted avg       0.83      0.84      0.83    298616\n",
      " \n",
      "\n",
      "결측치 대체 모델 리포트 : \n",
      "               precision    recall  f1-score   support\n",
      "\n",
      "           0       0.90      0.96      0.93    128182\n",
      "           1       0.51      0.45      0.48     28265\n",
      "           2       0.44      0.41      0.43     18508\n",
      "           3       0.40      0.21      0.28     10946\n",
      "           4       0.66      0.68      0.67     10040\n",
      "\n",
      "    accuracy                           0.78    195941\n",
      "   macro avg       0.58      0.54      0.56    195941\n",
      "weighted avg       0.76      0.78      0.77    195941\n",
      " \n",
      "\n"
     ]
    }
   ],
   "source": [
    "# 결측치 제거 모델 리포트\n",
    "lr_deleted_report = classification_report(y_test_deleted, lr_deleted_predict)\n",
    "\n",
    "# 결측치 대체 모델 리포트\n",
    "lr_report = classification_report(y_test, lr_predict)\n",
    "\n",
    "print(f'결측치 제거 모델 리포트 : \\n {lr_deleted_report} \\n')\n",
    "print(f'결측치 대체 모델 리포트 : \\n {lr_report} \\n')"
   ]
  },
  {
   "cell_type": "markdown",
   "id": "1555c846",
   "metadata": {},
   "source": [
    "<center>\n",
    "    로지스틱 회귀 모델 평가</br>\n",
    "\n",
    "|결측치 처리 방법|정확도|macro avg of f1-score|weighted avg of f1-score|\n",
    "|---|---|---|---|\n",
    "|결측치 제거|0.84|0.53|0.83|\n",
    "|결측치 대체|0.78|0.56|0.77|</center>"
   ]
  },
  {
   "cell_type": "markdown",
   "id": "8f2d6733",
   "metadata": {},
   "source": [
    "#### 로지스틱 회귀 모델 평가\n",
    "\n",
    "1. 신경망 모델보다 전반적으로 성능이 낮은데 선형회귀 방식을 사용하기 때문이라고 생각함\n",
    "2. 전반적인 성능이 베이스모델로 채택한 신경망모델보다 낮기 때문에 하이퍼파라미터 튜닝이 의미가 없을 것이라 생각하고 다음 모델 계속 시도"
   ]
  },
  {
   "cell_type": "markdown",
   "id": "141118ed",
   "metadata": {},
   "source": [
    "## 랜덤포레스트 모델\n",
    "\n",
    "의사결정나무 모델 여러 개를 훈련시켜서 그 결과를 종합해 예측하는 앙상블 알고리즘</br>\n",
    "여러 개의 의사결정나무 모델을 통해 예측한 값의 평균을 취하여 최종적인 예측값을 산출하는 방식</br>\n",
    "이를 배깅(bagging)이라 하는데 예측 모델의 일반화(안정성) 성능을 향상하는 데 도움이 됨</br>\n",
    "\n",
    "신경망 모델과 같이 앙상블 모델 중 기본적인 성능이 뒷받침되는 모델이기때문에 시도"
   ]
  },
  {
   "cell_type": "code",
   "execution_count": 21,
   "id": "186e6336",
   "metadata": {},
   "outputs": [],
   "source": [
    "from sklearn.ensemble import RandomForestClassifier"
   ]
  },
  {
   "cell_type": "code",
   "execution_count": 22,
   "id": "af2f86c6",
   "metadata": {},
   "outputs": [
    {
     "data": {
      "text/html": [
       "<style>#sk-container-id-2 {color: black;background-color: white;}#sk-container-id-2 pre{padding: 0;}#sk-container-id-2 div.sk-toggleable {background-color: white;}#sk-container-id-2 label.sk-toggleable__label {cursor: pointer;display: block;width: 100%;margin-bottom: 0;padding: 0.3em;box-sizing: border-box;text-align: center;}#sk-container-id-2 label.sk-toggleable__label-arrow:before {content: \"▸\";float: left;margin-right: 0.25em;color: #696969;}#sk-container-id-2 label.sk-toggleable__label-arrow:hover:before {color: black;}#sk-container-id-2 div.sk-estimator:hover label.sk-toggleable__label-arrow:before {color: black;}#sk-container-id-2 div.sk-toggleable__content {max-height: 0;max-width: 0;overflow: hidden;text-align: left;background-color: #f0f8ff;}#sk-container-id-2 div.sk-toggleable__content pre {margin: 0.2em;color: black;border-radius: 0.25em;background-color: #f0f8ff;}#sk-container-id-2 input.sk-toggleable__control:checked~div.sk-toggleable__content {max-height: 200px;max-width: 100%;overflow: auto;}#sk-container-id-2 input.sk-toggleable__control:checked~label.sk-toggleable__label-arrow:before {content: \"▾\";}#sk-container-id-2 div.sk-estimator input.sk-toggleable__control:checked~label.sk-toggleable__label {background-color: #d4ebff;}#sk-container-id-2 div.sk-label input.sk-toggleable__control:checked~label.sk-toggleable__label {background-color: #d4ebff;}#sk-container-id-2 input.sk-hidden--visually {border: 0;clip: rect(1px 1px 1px 1px);clip: rect(1px, 1px, 1px, 1px);height: 1px;margin: -1px;overflow: hidden;padding: 0;position: absolute;width: 1px;}#sk-container-id-2 div.sk-estimator {font-family: monospace;background-color: #f0f8ff;border: 1px dotted black;border-radius: 0.25em;box-sizing: border-box;margin-bottom: 0.5em;}#sk-container-id-2 div.sk-estimator:hover {background-color: #d4ebff;}#sk-container-id-2 div.sk-parallel-item::after {content: \"\";width: 100%;border-bottom: 1px solid gray;flex-grow: 1;}#sk-container-id-2 div.sk-label:hover label.sk-toggleable__label {background-color: #d4ebff;}#sk-container-id-2 div.sk-serial::before {content: \"\";position: absolute;border-left: 1px solid gray;box-sizing: border-box;top: 0;bottom: 0;left: 50%;z-index: 0;}#sk-container-id-2 div.sk-serial {display: flex;flex-direction: column;align-items: center;background-color: white;padding-right: 0.2em;padding-left: 0.2em;position: relative;}#sk-container-id-2 div.sk-item {position: relative;z-index: 1;}#sk-container-id-2 div.sk-parallel {display: flex;align-items: stretch;justify-content: center;background-color: white;position: relative;}#sk-container-id-2 div.sk-item::before, #sk-container-id-2 div.sk-parallel-item::before {content: \"\";position: absolute;border-left: 1px solid gray;box-sizing: border-box;top: 0;bottom: 0;left: 50%;z-index: -1;}#sk-container-id-2 div.sk-parallel-item {display: flex;flex-direction: column;z-index: 1;position: relative;background-color: white;}#sk-container-id-2 div.sk-parallel-item:first-child::after {align-self: flex-end;width: 50%;}#sk-container-id-2 div.sk-parallel-item:last-child::after {align-self: flex-start;width: 50%;}#sk-container-id-2 div.sk-parallel-item:only-child::after {width: 0;}#sk-container-id-2 div.sk-dashed-wrapped {border: 1px dashed gray;margin: 0 0.4em 0.5em 0.4em;box-sizing: border-box;padding-bottom: 0.4em;background-color: white;}#sk-container-id-2 div.sk-label label {font-family: monospace;font-weight: bold;display: inline-block;line-height: 1.2em;}#sk-container-id-2 div.sk-label-container {text-align: center;}#sk-container-id-2 div.sk-container {/* jupyter's `normalize.less` sets `[hidden] { display: none; }` but bootstrap.min.css set `[hidden] { display: none !important; }` so we also need the `!important` here to be able to override the default hidden behavior on the sphinx rendered scikit-learn.org. See: https://github.com/scikit-learn/scikit-learn/issues/21755 */display: inline-block !important;position: relative;}#sk-container-id-2 div.sk-text-repr-fallback {display: none;}</style><div id=\"sk-container-id-2\" class=\"sk-top-container\"><div class=\"sk-text-repr-fallback\"><pre>RandomForestClassifier(random_state=77)</pre><b>In a Jupyter environment, please rerun this cell to show the HTML representation or trust the notebook. <br />On GitHub, the HTML representation is unable to render, please try loading this page with nbviewer.org.</b></div><div class=\"sk-container\" hidden><div class=\"sk-item\"><div class=\"sk-estimator sk-toggleable\"><input class=\"sk-toggleable__control sk-hidden--visually\" id=\"sk-estimator-id-2\" type=\"checkbox\" checked><label for=\"sk-estimator-id-2\" class=\"sk-toggleable__label sk-toggleable__label-arrow\">RandomForestClassifier</label><div class=\"sk-toggleable__content\"><pre>RandomForestClassifier(random_state=77)</pre></div></div></div></div></div>"
      ],
      "text/plain": [
       "RandomForestClassifier(random_state=77)"
      ]
     },
     "execution_count": 22,
     "metadata": {},
     "output_type": "execute_result"
    }
   ],
   "source": [
    "# 결측치 제거 모델\n",
    "rf_deleted = RandomForestClassifier(random_state=77)\n",
    "rf_deleted.fit(X_train_deleted, y_train_deleted)\n",
    "\n",
    "# 결측치 대체 모델\n",
    "rf = RandomForestClassifier(random_state=77)\n",
    "rf.fit(X_train, y_train)"
   ]
  },
  {
   "cell_type": "code",
   "execution_count": 23,
   "id": "53c72058",
   "metadata": {},
   "outputs": [],
   "source": [
    "# 결측치 제거 모델 예측값\n",
    "rf_deleted_predict = rf_deleted.predict(X_test_deleted)\n",
    "\n",
    "# 결측치 대체 모델 예측값\n",
    "rf_predict = rf.predict(X_test)"
   ]
  },
  {
   "cell_type": "code",
   "execution_count": 24,
   "id": "14461962",
   "metadata": {
    "scrolled": true
   },
   "outputs": [
    {
     "name": "stdout",
     "output_type": "stream",
     "text": [
      "결측치 제거 모델 학습 정확도 :1.0\n",
      "결측치 대체 모델 학습 정확도 :1.0\n"
     ]
    }
   ],
   "source": [
    "print(f'결측치 제거 모델 학습 정확도 :{rf_deleted.score(X_train_deleted, y_train_deleted).round(3)}')\n",
    "print(f'결측치 대체 모델 학습 정확도 :{rf.score(X_train, y_train).round(3)}')"
   ]
  },
  {
   "cell_type": "code",
   "execution_count": 25,
   "id": "61bf6887",
   "metadata": {
    "scrolled": false
   },
   "outputs": [
    {
     "name": "stdout",
     "output_type": "stream",
     "text": [
      "결측치 제거 모델 리포트 : \n",
      "               precision    recall  f1-score   support\n",
      "\n",
      "           0       1.00      1.00      1.00    160175\n",
      "           1       1.00      1.00      1.00    107609\n",
      "           2       1.00      1.00      1.00     29299\n",
      "           3       0.99      0.96      0.97      1371\n",
      "           4       0.99      0.92      0.96       162\n",
      "\n",
      "    accuracy                           1.00    298616\n",
      "   macro avg       1.00      0.97      0.98    298616\n",
      "weighted avg       1.00      1.00      1.00    298616\n",
      " \n",
      "\n",
      "결측치 대체 모델 리포트 : \n",
      "               precision    recall  f1-score   support\n",
      "\n",
      "           0       0.99      1.00      1.00    128182\n",
      "           1       0.97      0.97      0.97     28265\n",
      "           2       0.95      0.95      0.95     18508\n",
      "           3       0.94      0.90      0.92     10946\n",
      "           4       0.95      0.96      0.96     10040\n",
      "\n",
      "    accuracy                           0.98    195941\n",
      "   macro avg       0.96      0.95      0.96    195941\n",
      "weighted avg       0.98      0.98      0.98    195941\n",
      " \n",
      "\n"
     ]
    }
   ],
   "source": [
    "# 결측치 제거 모델 리포트\n",
    "rf_deleted_report = classification_report(y_test_deleted, rf_deleted_predict)\n",
    "\n",
    "# 결측치 대체 모델 리포트\n",
    "rf_report = classification_report(y_test, rf_predict)\n",
    "\n",
    "print(f'결측치 제거 모델 리포트 : \\n {rf_deleted_report} \\n')\n",
    "print(f'결측치 대체 모델 리포트 : \\n {rf_report} \\n')"
   ]
  },
  {
   "cell_type": "markdown",
   "id": "b7445348",
   "metadata": {},
   "source": [
    "<center>\n",
    "    랜덤포레스트 모델 평가</br>\n",
    "\n",
    "|결측치 처리 방법|정확도|macro avg of f1-score|weighted avg of f1-score|\n",
    "|---|---|---|---|\n",
    "|결측치 제거|1.00|0.98|1.00|\n",
    "|결측치 대체|0.98|0.96|0.98|</center>"
   ]
  },
  {
   "cell_type": "markdown",
   "id": "ab90ce1c",
   "metadata": {},
   "source": [
    "#### 랜덤포레스트 모델 평가\n",
    "\n",
    "1. 학습 정확도가 100%인 것과 모델 리포트를 살펴봤을 때 과적합이 발생한 것을 알 수 있음\n",
    "2. 다른 앙상블 모델도 시도해보고 파라미터 조정할 때 과적합 개선 시도"
   ]
  },
  {
   "cell_type": "markdown",
   "id": "7268c2f9",
   "metadata": {},
   "source": [
    "## LGBM 모델"
   ]
  },
  {
   "cell_type": "code",
   "execution_count": 26,
   "id": "95fef204",
   "metadata": {},
   "outputs": [],
   "source": [
    "from lightgbm import LGBMClassifier"
   ]
  },
  {
   "cell_type": "code",
   "execution_count": 27,
   "id": "a65e36ee",
   "metadata": {},
   "outputs": [
    {
     "data": {
      "text/html": [
       "<style>#sk-container-id-3 {color: black;background-color: white;}#sk-container-id-3 pre{padding: 0;}#sk-container-id-3 div.sk-toggleable {background-color: white;}#sk-container-id-3 label.sk-toggleable__label {cursor: pointer;display: block;width: 100%;margin-bottom: 0;padding: 0.3em;box-sizing: border-box;text-align: center;}#sk-container-id-3 label.sk-toggleable__label-arrow:before {content: \"▸\";float: left;margin-right: 0.25em;color: #696969;}#sk-container-id-3 label.sk-toggleable__label-arrow:hover:before {color: black;}#sk-container-id-3 div.sk-estimator:hover label.sk-toggleable__label-arrow:before {color: black;}#sk-container-id-3 div.sk-toggleable__content {max-height: 0;max-width: 0;overflow: hidden;text-align: left;background-color: #f0f8ff;}#sk-container-id-3 div.sk-toggleable__content pre {margin: 0.2em;color: black;border-radius: 0.25em;background-color: #f0f8ff;}#sk-container-id-3 input.sk-toggleable__control:checked~div.sk-toggleable__content {max-height: 200px;max-width: 100%;overflow: auto;}#sk-container-id-3 input.sk-toggleable__control:checked~label.sk-toggleable__label-arrow:before {content: \"▾\";}#sk-container-id-3 div.sk-estimator input.sk-toggleable__control:checked~label.sk-toggleable__label {background-color: #d4ebff;}#sk-container-id-3 div.sk-label input.sk-toggleable__control:checked~label.sk-toggleable__label {background-color: #d4ebff;}#sk-container-id-3 input.sk-hidden--visually {border: 0;clip: rect(1px 1px 1px 1px);clip: rect(1px, 1px, 1px, 1px);height: 1px;margin: -1px;overflow: hidden;padding: 0;position: absolute;width: 1px;}#sk-container-id-3 div.sk-estimator {font-family: monospace;background-color: #f0f8ff;border: 1px dotted black;border-radius: 0.25em;box-sizing: border-box;margin-bottom: 0.5em;}#sk-container-id-3 div.sk-estimator:hover {background-color: #d4ebff;}#sk-container-id-3 div.sk-parallel-item::after {content: \"\";width: 100%;border-bottom: 1px solid gray;flex-grow: 1;}#sk-container-id-3 div.sk-label:hover label.sk-toggleable__label {background-color: #d4ebff;}#sk-container-id-3 div.sk-serial::before {content: \"\";position: absolute;border-left: 1px solid gray;box-sizing: border-box;top: 0;bottom: 0;left: 50%;z-index: 0;}#sk-container-id-3 div.sk-serial {display: flex;flex-direction: column;align-items: center;background-color: white;padding-right: 0.2em;padding-left: 0.2em;position: relative;}#sk-container-id-3 div.sk-item {position: relative;z-index: 1;}#sk-container-id-3 div.sk-parallel {display: flex;align-items: stretch;justify-content: center;background-color: white;position: relative;}#sk-container-id-3 div.sk-item::before, #sk-container-id-3 div.sk-parallel-item::before {content: \"\";position: absolute;border-left: 1px solid gray;box-sizing: border-box;top: 0;bottom: 0;left: 50%;z-index: -1;}#sk-container-id-3 div.sk-parallel-item {display: flex;flex-direction: column;z-index: 1;position: relative;background-color: white;}#sk-container-id-3 div.sk-parallel-item:first-child::after {align-self: flex-end;width: 50%;}#sk-container-id-3 div.sk-parallel-item:last-child::after {align-self: flex-start;width: 50%;}#sk-container-id-3 div.sk-parallel-item:only-child::after {width: 0;}#sk-container-id-3 div.sk-dashed-wrapped {border: 1px dashed gray;margin: 0 0.4em 0.5em 0.4em;box-sizing: border-box;padding-bottom: 0.4em;background-color: white;}#sk-container-id-3 div.sk-label label {font-family: monospace;font-weight: bold;display: inline-block;line-height: 1.2em;}#sk-container-id-3 div.sk-label-container {text-align: center;}#sk-container-id-3 div.sk-container {/* jupyter's `normalize.less` sets `[hidden] { display: none; }` but bootstrap.min.css set `[hidden] { display: none !important; }` so we also need the `!important` here to be able to override the default hidden behavior on the sphinx rendered scikit-learn.org. See: https://github.com/scikit-learn/scikit-learn/issues/21755 */display: inline-block !important;position: relative;}#sk-container-id-3 div.sk-text-repr-fallback {display: none;}</style><div id=\"sk-container-id-3\" class=\"sk-top-container\"><div class=\"sk-text-repr-fallback\"><pre>LGBMClassifier(n_estimators=300, random_state=77)</pre><b>In a Jupyter environment, please rerun this cell to show the HTML representation or trust the notebook. <br />On GitHub, the HTML representation is unable to render, please try loading this page with nbviewer.org.</b></div><div class=\"sk-container\" hidden><div class=\"sk-item\"><div class=\"sk-estimator sk-toggleable\"><input class=\"sk-toggleable__control sk-hidden--visually\" id=\"sk-estimator-id-3\" type=\"checkbox\" checked><label for=\"sk-estimator-id-3\" class=\"sk-toggleable__label sk-toggleable__label-arrow\">LGBMClassifier</label><div class=\"sk-toggleable__content\"><pre>LGBMClassifier(n_estimators=300, random_state=77)</pre></div></div></div></div></div>"
      ],
      "text/plain": [
       "LGBMClassifier(n_estimators=300, random_state=77)"
      ]
     },
     "execution_count": 27,
     "metadata": {},
     "output_type": "execute_result"
    }
   ],
   "source": [
    "# 결측치 제거 모델\n",
    "lgbm_deleted = LGBMClassifier(n_estimators=300, random_state=77)\n",
    "lgbm_deleted.fit(X_train_deleted, y_train_deleted)\n",
    "\n",
    "# 결측치 대체 모델\n",
    "lgbm = LGBMClassifier(n_estimators=300, random_state=77)\n",
    "lgbm.fit(X_train, y_train)"
   ]
  },
  {
   "cell_type": "code",
   "execution_count": 28,
   "id": "7c5b9102",
   "metadata": {},
   "outputs": [
    {
     "name": "stdout",
     "output_type": "stream",
     "text": [
      "결측치 제거 모델 학습 정확도 :0.984\n",
      "결측치 대체 모델 학습 정확도 :0.99\n"
     ]
    }
   ],
   "source": [
    "print(f'결측치 제거 모델 학습 정확도 :{lgbm_deleted.score(X_train_deleted, y_train_deleted).round(3)}')\n",
    "print(f'결측치 대체 모델 학습 정확도 :{lgbm.score(X_train, y_train).round(3)}')"
   ]
  },
  {
   "cell_type": "code",
   "execution_count": 29,
   "id": "3d1a18a2",
   "metadata": {},
   "outputs": [],
   "source": [
    "# 결측치 제거 모델 예측값\n",
    "lgbm_deleted_predict = lgbm_deleted.predict(X_test_deleted, random_state=77)\n",
    "\n",
    "# 결측치 대체 모델 예측값\n",
    "lgbm_predict = lgbm.predict(X_test)"
   ]
  },
  {
   "cell_type": "code",
   "execution_count": 30,
   "id": "74376dd4",
   "metadata": {},
   "outputs": [
    {
     "name": "stdout",
     "output_type": "stream",
     "text": [
      "결측치 제거 모델 리포트 : \n",
      "               precision    recall  f1-score   support\n",
      "\n",
      "           0       1.00      0.99      0.99    160175\n",
      "           1       0.98      0.98      0.98    107609\n",
      "           2       0.94      0.94      0.94     29299\n",
      "           3       0.57      0.56      0.56      1371\n",
      "           4       0.12      0.12      0.12       162\n",
      "\n",
      "    accuracy                           0.98    298616\n",
      "   macro avg       0.72      0.72      0.72    298616\n",
      "weighted avg       0.98      0.98      0.98    298616\n",
      " \n",
      "\n",
      "결측치 대체 모델 리포트 : \n",
      "               precision    recall  f1-score   support\n",
      "\n",
      "           0       1.00      1.00      1.00    128182\n",
      "           1       0.97      0.98      0.98     28265\n",
      "           2       0.96      0.95      0.95     18508\n",
      "           3       0.96      0.94      0.95     10946\n",
      "           4       0.99      0.99      0.99     10040\n",
      "\n",
      "    accuracy                           0.99    195941\n",
      "   macro avg       0.97      0.97      0.97    195941\n",
      "weighted avg       0.99      0.99      0.99    195941\n",
      " \n",
      "\n"
     ]
    }
   ],
   "source": [
    "# 결측치 제거 모델 리포트\n",
    "lgbm_deleted_report = classification_report(y_test_deleted, lgbm_deleted_predict)\n",
    "\n",
    "# 결측치 대체 모델 리포트\n",
    "lgbm_report = classification_report(y_test, lgbm_predict)\n",
    "\n",
    "print(f'결측치 제거 모델 리포트 : \\n {lgbm_deleted_report} \\n')\n",
    "print(f'결측치 대체 모델 리포트 : \\n {lgbm_report} \\n')"
   ]
  },
  {
   "cell_type": "markdown",
   "id": "9b450dfe",
   "metadata": {},
   "source": [
    "<center>\n",
    "    LGBM 모델 평가</br>\n",
    "\n",
    "|결측치 처리 방법|정확도|macro avg of f1-score|weighted avg of f1-score|\n",
    "|---|---|---|---|\n",
    "|결측치 제거|0.98|0.72|0.98|\n",
    "|결측치 대체|0.99|0.97|0.99|</center>"
   ]
  },
  {
   "cell_type": "markdown",
   "id": "9a837d2e",
   "metadata": {},
   "source": [
    "#### LGBM 모델 평가\n",
    "\n",
    "1. 지금까지 시도한 모델 중 가장 우수한 성능을 보임\n",
    "2. 클래스의 데이터가 적을수록 성능이 떨어지는 현상은 모든 모델에서 나타나는 현상\n",
    "3. 데이터가 불균형할수록 모델의 성능평가 지표로 f1-score 중 macro avg를 활용하는데 결측치를 대체하여 고위험군 데이터를 확보한 쪽이 성능이 훨씬좋음"
   ]
  },
  {
   "cell_type": "markdown",
   "id": "efc702e1",
   "metadata": {},
   "source": [
    "## XGBoost 모델\n",
    "\n",
    "트리 기반의 알고리즘의 앙상블 학습에서 좋은 평가를 받는 알고리즘 중 하나\n",
    "GBM에 기반하고 있지만 GBM의 단점인 느린 수행시간, 과적합 규제 등을 해결한 알고리즘이기 때문에 lgbm 모델에 이어 시도"
   ]
  },
  {
   "cell_type": "code",
   "execution_count": 32,
   "id": "54fc44e0",
   "metadata": {},
   "outputs": [],
   "source": [
    "from xgboost import XGBClassifier\n",
    "from xgboost import plot_importance"
   ]
  },
  {
   "cell_type": "code",
   "execution_count": 33,
   "id": "79ab2c55",
   "metadata": {},
   "outputs": [
    {
     "data": {
      "text/html": [
       "<style>#sk-container-id-4 {color: black;background-color: white;}#sk-container-id-4 pre{padding: 0;}#sk-container-id-4 div.sk-toggleable {background-color: white;}#sk-container-id-4 label.sk-toggleable__label {cursor: pointer;display: block;width: 100%;margin-bottom: 0;padding: 0.3em;box-sizing: border-box;text-align: center;}#sk-container-id-4 label.sk-toggleable__label-arrow:before {content: \"▸\";float: left;margin-right: 0.25em;color: #696969;}#sk-container-id-4 label.sk-toggleable__label-arrow:hover:before {color: black;}#sk-container-id-4 div.sk-estimator:hover label.sk-toggleable__label-arrow:before {color: black;}#sk-container-id-4 div.sk-toggleable__content {max-height: 0;max-width: 0;overflow: hidden;text-align: left;background-color: #f0f8ff;}#sk-container-id-4 div.sk-toggleable__content pre {margin: 0.2em;color: black;border-radius: 0.25em;background-color: #f0f8ff;}#sk-container-id-4 input.sk-toggleable__control:checked~div.sk-toggleable__content {max-height: 200px;max-width: 100%;overflow: auto;}#sk-container-id-4 input.sk-toggleable__control:checked~label.sk-toggleable__label-arrow:before {content: \"▾\";}#sk-container-id-4 div.sk-estimator input.sk-toggleable__control:checked~label.sk-toggleable__label {background-color: #d4ebff;}#sk-container-id-4 div.sk-label input.sk-toggleable__control:checked~label.sk-toggleable__label {background-color: #d4ebff;}#sk-container-id-4 input.sk-hidden--visually {border: 0;clip: rect(1px 1px 1px 1px);clip: rect(1px, 1px, 1px, 1px);height: 1px;margin: -1px;overflow: hidden;padding: 0;position: absolute;width: 1px;}#sk-container-id-4 div.sk-estimator {font-family: monospace;background-color: #f0f8ff;border: 1px dotted black;border-radius: 0.25em;box-sizing: border-box;margin-bottom: 0.5em;}#sk-container-id-4 div.sk-estimator:hover {background-color: #d4ebff;}#sk-container-id-4 div.sk-parallel-item::after {content: \"\";width: 100%;border-bottom: 1px solid gray;flex-grow: 1;}#sk-container-id-4 div.sk-label:hover label.sk-toggleable__label {background-color: #d4ebff;}#sk-container-id-4 div.sk-serial::before {content: \"\";position: absolute;border-left: 1px solid gray;box-sizing: border-box;top: 0;bottom: 0;left: 50%;z-index: 0;}#sk-container-id-4 div.sk-serial {display: flex;flex-direction: column;align-items: center;background-color: white;padding-right: 0.2em;padding-left: 0.2em;position: relative;}#sk-container-id-4 div.sk-item {position: relative;z-index: 1;}#sk-container-id-4 div.sk-parallel {display: flex;align-items: stretch;justify-content: center;background-color: white;position: relative;}#sk-container-id-4 div.sk-item::before, #sk-container-id-4 div.sk-parallel-item::before {content: \"\";position: absolute;border-left: 1px solid gray;box-sizing: border-box;top: 0;bottom: 0;left: 50%;z-index: -1;}#sk-container-id-4 div.sk-parallel-item {display: flex;flex-direction: column;z-index: 1;position: relative;background-color: white;}#sk-container-id-4 div.sk-parallel-item:first-child::after {align-self: flex-end;width: 50%;}#sk-container-id-4 div.sk-parallel-item:last-child::after {align-self: flex-start;width: 50%;}#sk-container-id-4 div.sk-parallel-item:only-child::after {width: 0;}#sk-container-id-4 div.sk-dashed-wrapped {border: 1px dashed gray;margin: 0 0.4em 0.5em 0.4em;box-sizing: border-box;padding-bottom: 0.4em;background-color: white;}#sk-container-id-4 div.sk-label label {font-family: monospace;font-weight: bold;display: inline-block;line-height: 1.2em;}#sk-container-id-4 div.sk-label-container {text-align: center;}#sk-container-id-4 div.sk-container {/* jupyter's `normalize.less` sets `[hidden] { display: none; }` but bootstrap.min.css set `[hidden] { display: none !important; }` so we also need the `!important` here to be able to override the default hidden behavior on the sphinx rendered scikit-learn.org. See: https://github.com/scikit-learn/scikit-learn/issues/21755 */display: inline-block !important;position: relative;}#sk-container-id-4 div.sk-text-repr-fallback {display: none;}</style><div id=\"sk-container-id-4\" class=\"sk-top-container\"><div class=\"sk-text-repr-fallback\"><pre>XGBClassifier(base_score=0.5, booster=&#x27;gbtree&#x27;, callbacks=None,\n",
       "              colsample_bylevel=1, colsample_bynode=1, colsample_bytree=1,\n",
       "              early_stopping_rounds=None, enable_categorical=False,\n",
       "              eval_metric=None, gamma=0, gpu_id=-1, grow_policy=&#x27;depthwise&#x27;,\n",
       "              importance_type=None, interaction_constraints=&#x27;&#x27;,\n",
       "              learning_rate=0.1, max_bin=256, max_cat_to_onehot=4,\n",
       "              max_delta_step=0, max_depth=3, max_leaves=0, min_child_weight=1,\n",
       "              missing=nan, monotone_constraints=&#x27;()&#x27;, n_estimators=400,\n",
       "              n_jobs=0, num_parallel_tree=1, objective=&#x27;multi:softprob&#x27;,\n",
       "              predictor=&#x27;auto&#x27;, random_state=77, reg_alpha=0, ...)</pre><b>In a Jupyter environment, please rerun this cell to show the HTML representation or trust the notebook. <br />On GitHub, the HTML representation is unable to render, please try loading this page with nbviewer.org.</b></div><div class=\"sk-container\" hidden><div class=\"sk-item\"><div class=\"sk-estimator sk-toggleable\"><input class=\"sk-toggleable__control sk-hidden--visually\" id=\"sk-estimator-id-4\" type=\"checkbox\" checked><label for=\"sk-estimator-id-4\" class=\"sk-toggleable__label sk-toggleable__label-arrow\">XGBClassifier</label><div class=\"sk-toggleable__content\"><pre>XGBClassifier(base_score=0.5, booster=&#x27;gbtree&#x27;, callbacks=None,\n",
       "              colsample_bylevel=1, colsample_bynode=1, colsample_bytree=1,\n",
       "              early_stopping_rounds=None, enable_categorical=False,\n",
       "              eval_metric=None, gamma=0, gpu_id=-1, grow_policy=&#x27;depthwise&#x27;,\n",
       "              importance_type=None, interaction_constraints=&#x27;&#x27;,\n",
       "              learning_rate=0.1, max_bin=256, max_cat_to_onehot=4,\n",
       "              max_delta_step=0, max_depth=3, max_leaves=0, min_child_weight=1,\n",
       "              missing=nan, monotone_constraints=&#x27;()&#x27;, n_estimators=400,\n",
       "              n_jobs=0, num_parallel_tree=1, objective=&#x27;multi:softprob&#x27;,\n",
       "              predictor=&#x27;auto&#x27;, random_state=77, reg_alpha=0, ...)</pre></div></div></div></div></div>"
      ],
      "text/plain": [
       "XGBClassifier(base_score=0.5, booster='gbtree', callbacks=None,\n",
       "              colsample_bylevel=1, colsample_bynode=1, colsample_bytree=1,\n",
       "              early_stopping_rounds=None, enable_categorical=False,\n",
       "              eval_metric=None, gamma=0, gpu_id=-1, grow_policy='depthwise',\n",
       "              importance_type=None, interaction_constraints='',\n",
       "              learning_rate=0.1, max_bin=256, max_cat_to_onehot=4,\n",
       "              max_delta_step=0, max_depth=3, max_leaves=0, min_child_weight=1,\n",
       "              missing=nan, monotone_constraints='()', n_estimators=400,\n",
       "              n_jobs=0, num_parallel_tree=1, objective='multi:softprob',\n",
       "              predictor='auto', random_state=77, reg_alpha=0, ...)"
      ]
     },
     "execution_count": 33,
     "metadata": {},
     "output_type": "execute_result"
    }
   ],
   "source": [
    "# 결측치 제거 모델\n",
    "xgb_deleted = XGBClassifier(n_estimators=400, learning_rate=0.1, max_depth=3, random_state=77)\n",
    "xgb_deleted.fit(X_train_deleted, y_train_deleted)\n",
    "\n",
    "# 결측치 대체 모델\n",
    "xgb = XGBClassifier(n_estimators=400, learning_rate=0.1, max_depth=3, random_state=77)\n",
    "xgb.fit(X_train, y_train)"
   ]
  },
  {
   "cell_type": "code",
   "execution_count": 35,
   "id": "93546bf4",
   "metadata": {},
   "outputs": [
    {
     "name": "stdout",
     "output_type": "stream",
     "text": [
      "결측치 제거 모델 학습 정확도 :0.99\n",
      "결측치 대체 모델 학습 정확도 :0.935\n"
     ]
    }
   ],
   "source": [
    "print(f'결측치 제거 모델 학습 정확도 :{xgb_deleted.score(X_train_deleted, y_train_deleted).round(3)}')\n",
    "print(f'결측치 대체 모델 학습 정확도 :{xgb.score(X_train, y_train).round(3)}')"
   ]
  },
  {
   "cell_type": "code",
   "execution_count": 36,
   "id": "9c1c3fd0",
   "metadata": {},
   "outputs": [],
   "source": [
    "# 결측치 제거 모델 예측값\n",
    "xgb_deleted_predict = xgb_deleted.predict(X_test_deleted)\n",
    "\n",
    "# 결측치 대체 모델 예측값\n",
    "xgb_predict = xgb.predict(X_test)"
   ]
  },
  {
   "cell_type": "code",
   "execution_count": 37,
   "id": "f2d4ee65",
   "metadata": {},
   "outputs": [
    {
     "name": "stdout",
     "output_type": "stream",
     "text": [
      "결측치 제거 모델 리포트 : \n",
      "               precision    recall  f1-score   support\n",
      "\n",
      "           0       1.00      1.00      1.00    160175\n",
      "           1       0.99      0.99      0.99    107609\n",
      "           2       0.96      0.96      0.96     29299\n",
      "           3       0.90      0.64      0.75      1371\n",
      "           4       0.95      0.67      0.78       162\n",
      "\n",
      "    accuracy                           0.99    298616\n",
      "   macro avg       0.96      0.85      0.90    298616\n",
      "weighted avg       0.99      0.99      0.99    298616\n",
      " \n",
      "\n",
      "결측치 대체 모델 리포트 : \n",
      "               precision    recall  f1-score   support\n",
      "\n",
      "           0       0.98      1.00      0.99    128182\n",
      "           1       0.84      0.88      0.86     28265\n",
      "           2       0.79      0.72      0.75     18508\n",
      "           3       0.84      0.70      0.76     10946\n",
      "           4       0.93      0.94      0.93     10040\n",
      "\n",
      "    accuracy                           0.93    195941\n",
      "   macro avg       0.87      0.85      0.86    195941\n",
      "weighted avg       0.93      0.93      0.93    195941\n",
      " \n",
      "\n"
     ]
    }
   ],
   "source": [
    "# 결측치 제거 모델 리포트\n",
    "xgb_deleted_report = classification_report(y_test_deleted, xgb_deleted_predict)\n",
    "\n",
    "# 결측치 대체 모델 리포트\n",
    "xgb_report = classification_report(y_test, xgb_predict)\n",
    "\n",
    "print(f'결측치 제거 모델 리포트 : \\n {xgb_deleted_report} \\n')\n",
    "print(f'결측치 대체 모델 리포트 : \\n {xgb_report} \\n')"
   ]
  },
  {
   "cell_type": "markdown",
   "id": "f4c994f7",
   "metadata": {},
   "source": [
    "<center>\n",
    "    XGB 모델 평가</br>\n",
    "\n",
    "|결측치 처리 방법|정확도|macro avg of f1-score|weighted avg of f1-score|\n",
    "|---|---|---|---|\n",
    "|결측치 제거|0.99|0.90|0.99|\n",
    "|결측치 대체|0.93|0.86|0.93|</center>"
   ]
  },
  {
   "cell_type": "markdown",
   "id": "453d420b",
   "metadata": {},
   "source": [
    "#### XGB 모델 평가\n",
    "\n",
    "1. 다른 앙상블 모델과 동일하게 우수한 성능을 보임\n",
    "2. 특히 다른 모델에 비해 결측치 제거한 데이터셋 활용시 데이터가 적은 위험군에 대해서도 준수한 성능을 보임"
   ]
  },
  {
   "cell_type": "markdown",
   "id": "c7b18754",
   "metadata": {},
   "source": [
    "### 기본 모델 성능 평가 결과\n",
    "\n",
    "1. 트리기반 앙상블 모델의 정확도가 대체로 높음\n",
    "2. 클래스가 불균형할 때 모델의 성능을 평가하는 Macro f1-score를 살펴보면 결측치 제거 모델은 XGB모델이 가장 높고 결측치 대체 모델은 LGBM 모델이 가장 높음\n",
    "3. 랜덤 포레스트 모델의 경우 모든 데이터셋에서 가장 높은 성능을 보여줬지만 과적합의 여지가 있기때문에 전체 결과에서는 배제했으며 파라미터 튜닝을 통해 과적합을 개선할 예정\n",
    "4. 따라서 XGB 모델, LGBM 모델, 랜덤 포레스트 모델에 대해 파라미터 튜닝 진행 후 최종모델 선정"
   ]
  },
  {
   "cell_type": "markdown",
   "id": "3af65db8",
   "metadata": {},
   "source": [
    "## 모델 튜닝\n",
    "\n",
    "트리기반 앙상블 모델의 성능이 대체로 우수하기 때문에 RandomForest, LGBM, XGBoost 세 가지 모델에 대해서 과적합 개선을 최우선 목표로 설정 후 파라미터 튜닝 진행</br>\n",
    "\n",
    "세 가지 모델 모두 트리기반의 모델이기 때문에 튜닝해야할 동일한 파라미터가 존재하여 함수 선언 후 진행"
   ]
  },
  {
   "cell_type": "markdown",
   "id": "d68a72ab",
   "metadata": {},
   "source": [
    "### 모델 성능 시각화 함수"
   ]
  },
  {
   "cell_type": "code",
   "execution_count": 38,
   "id": "ec506883",
   "metadata": {},
   "outputs": [],
   "source": [
    "def optimi_visualization(algorithm_name, x_values, train_score, test_score, xlabel):\n",
    "    \n",
    "    # 하이퍼파라미터 조정에 따른 학습 데이터셋 기반 모델 성능 추이 시각화\n",
    "    plt.plot(x_values, train_score, linestyle='-', label='train score')\n",
    "\n",
    "    # 하이퍼파라미터 조정에 따른 테스트 데이터셋 기반 모델 성능 추이 시각화\n",
    "    plt.plot(x_values, test_score, linestyle='--', label='test score')\n",
    "    plt.ylabel('Accuracy(%)') # y축 라벨\n",
    "    plt.xlabel(xlabel) # x축 라벨\n",
    "    plt.legend() # 범례표시"
   ]
  },
  {
   "cell_type": "markdown",
   "id": "95cdbf08",
   "metadata": {},
   "source": [
    "### 모델 최적화 함수 "
   ]
  },
  {
   "cell_type": "code",
   "execution_count": 40,
   "id": "f153e674",
   "metadata": {},
   "outputs": [],
   "source": [
    "# 학습할 트리 모델 개수 선정을 위한 함수\n",
    "\n",
    "def optimi_estimator(algorithm, algorithm_name, x_train, y_train, x_test, y_test, n_estimator_min, n_estimator_max):\n",
    "    train_score = []; test_score = []\n",
    "    para_n_tree = [n_tree*5 for n_tree in range(n_estimator_min, n_estimator_max)]\n",
    "\n",
    "    for v_n_estimators in para_n_tree:\n",
    "        model = algorithm(n_estimators=v_n_estimators, random_state=77)\n",
    "        model.fit(x_train, y_train)\n",
    "        train_score.append(model.score(x_train, y_train))\n",
    "        test_score.append(model.score(x_test, y_test))\n",
    "\n",
    "    # 트리 개수에 따른 모델 성능 저장\n",
    "    df_score_n = pd.DataFrame({'n_estimators': para_n_tree, 'TrainScore': train_score, 'TestScore': test_score})\n",
    "    # 트리 개수에 따른 모델 성능 추이 시각화 함수 호출\n",
    "    optimi_visualization(algorithm_name, para_n_tree, train_score, test_score, \"The number of estimator\")\n",
    "    print(round(df_score_n, 4))"
   ]
  },
  {
   "cell_type": "code",
   "execution_count": 41,
   "id": "a287dc5b",
   "metadata": {},
   "outputs": [],
   "source": [
    "# 학습할 트리별 최대 깊이 선정을 위한 함수\n",
    "\n",
    "def optimi_maxdepth (algorithm, algorithm_name, x_train, y_train, x_test, y_test, depth_min, depth_max, n_estimator):\n",
    "    train_score = []; test_score = []\n",
    "    para_depth = [depth for depth in range(depth_min, depth_max)]\n",
    "\n",
    "    for v_max_depth in para_depth:\n",
    "        model = algorithm(max_depth=v_max_depth, n_estimators=n_estimator, random_state=77)\n",
    "        model.fit(x_train, y_train)\n",
    "        train_score.append(model.score(x_train, y_train))\n",
    "        test_score.append(model.score(x_test, y_test))\n",
    "\n",
    "    # 최대 깊이에 따른 모델 성능 저장\n",
    "    df_score_n = pd.DataFrame({'depth': para_depth, 'TrainScore': train_score, 'TestScore': test_score})\n",
    "    # 최대 깊이에 따른 모델 성능 추이 시각화 함수 호출\n",
    "    optimi_visualization(algorithm_name, para_depth, train_score, test_score, \"The number of depth\")\n",
    "    print(round(df_score_n, 4))"
   ]
  },
  {
   "cell_type": "code",
   "execution_count": 42,
   "id": "87994f78",
   "metadata": {},
   "outputs": [],
   "source": [
    "# 분리 노드의 최소 자료수 선정을 위한 함수\n",
    "\n",
    "def optimi_minsplit (algorithm, algorithm_name, x_train, y_train, x_test, y_test, n_split_min, n_split_max, n_estimator, n_depth):\n",
    "    train_score = []; test_score = []\n",
    "    para_split = [n_split*2 for n_split in range(n_split_min, n_split_max)]\n",
    "    for v_min_samples_split in para_split:\n",
    "        model = algorithm(min_samples_split=v_min_samples_split,\n",
    "                          n_estimators=n_estimator,\n",
    "                          max_depth=n_depth,\n",
    "                          random_state=77)\n",
    "        model.fit(x_train, y_train)\n",
    "        train_score.append(model.score(x_train, y_train))\n",
    "        test_score.append(model.score(x_test, y_test))\n",
    "\n",
    "    # 분리 노드의 최소 자료 수에 따른 모델 성능 저장\n",
    "    df_score_n = pd.DataFrame({'min_samples_split': para_split, 'TrainScore': train_score, 'TestScore': test_score})\n",
    "    # 분리 노드의 최소 자료 수에 따른 모델 성능 추이 시각화 함수 호출\n",
    "    optimi_visualization(algorithm_name, para_split, train_score, test_score, \"The minimum number of samples required to split an internal node\")\n",
    "    print(round(df_score_n, 4))"
   ]
  },
  {
   "cell_type": "code",
   "execution_count": 43,
   "id": "fa73900b",
   "metadata": {},
   "outputs": [],
   "source": [
    "# 마지막 노드 내 최소 자료 수를 결정하기 위한 함수\n",
    "\n",
    "def optimi_minleaf(algorithm, algorithm_name, x_train, y_train, x_test, y_test, n_leaf_min, n_leaf_max, n_estimator, n_depth, n_split):\n",
    "    train_score = []; test_score = []\n",
    "    para_leaf = [n_leaf*2 for n_leaf in range(n_leaf_min, n_leaf_max)]\n",
    "\n",
    "    for v_min_samples_leaf in para_leaf:\n",
    "        model = algorithm(min_samples_leaf=v_min_samples_leaf,\n",
    "                            n_estimators=n_estimator,\n",
    "                            max_depth=n_depth,\n",
    "                            min_samples_split=n_split,\n",
    "                            random_state=77)\n",
    "        model.fit(x_train, y_train)\n",
    "        train_score.append(model.score(x_train, y_train))\n",
    "        test_score.append(model.score(x_test, y_test))\n",
    "\n",
    "    # 잎사귀 노드의 최소 자료 수에 따른 모델 성능 저장\n",
    "    df_score_n = pd.DataFrame({'min_samples_leaf': para_leaf, 'TrainScore': train_score, 'TestScore': test_score})\n",
    "    # 잎사귀 노드의 최소 자료 수에 따른 모델 성능 추이 시각화 함수 호출\n",
    "    optimi_visualization(algorithm_name, para_leaf, train_score, test_score, \"The minimum number of samples required to be at a leaf node\")\n",
    "    print(round(df_score_n, 4))"
   ]
  },
  {
   "cell_type": "markdown",
   "id": "21e2881d",
   "metadata": {},
   "source": [
    "## 랜덤포레스트 모델 파라미터 튜닝"
   ]
  },
  {
   "cell_type": "markdown",
   "id": "6aa2a570",
   "metadata": {},
   "source": [
    "### 결측치 제거 모델"
   ]
  },
  {
   "cell_type": "code",
   "execution_count": 61,
   "id": "0cc34e6a",
   "metadata": {},
   "outputs": [],
   "source": [
    "algorithm = RandomForestClassifier\n",
    "algorithm_name = 'rf'"
   ]
  },
  {
   "cell_type": "code",
   "execution_count": 45,
   "id": "e25b2ef9",
   "metadata": {
    "scrolled": true
   },
   "outputs": [
    {
     "name": "stdout",
     "output_type": "stream",
     "text": [
      "    n_estimators  TrainScore  TestScore\n",
      "0              5      0.9998     0.9970\n",
      "1             10      1.0000     0.9981\n",
      "2             15      1.0000     0.9986\n",
      "3             20      1.0000     0.9987\n",
      "4             25      1.0000     0.9989\n",
      "5             30      1.0000     0.9989\n",
      "6             35      1.0000     0.9990\n",
      "7             40      1.0000     0.9990\n",
      "8             45      1.0000     0.9990\n",
      "9             50      1.0000     0.9990\n",
      "10            55      1.0000     0.9990\n",
      "11            60      1.0000     0.9990\n",
      "12            65      1.0000     0.9991\n",
      "13            70      1.0000     0.9991\n",
      "14            75      1.0000     0.9991\n",
      "15            80      1.0000     0.9991\n",
      "16            85      1.0000     0.9991\n",
      "17            90      1.0000     0.9991\n",
      "18            95      1.0000     0.9991\n",
      "19           100      1.0000     0.9991\n",
      "20           105      1.0000     0.9991\n",
      "21           110      1.0000     0.9991\n",
      "22           115      1.0000     0.9991\n",
      "23           120      1.0000     0.9991\n",
      "24           125      1.0000     0.9991\n",
      "25           130      1.0000     0.9991\n",
      "26           135      1.0000     0.9991\n",
      "27           140      1.0000     0.9991\n",
      "28           145      1.0000     0.9991\n",
      "29           150      1.0000     0.9991\n"
     ]
    },
    {
     "data": {
      "image/png": "[encoded data removed]",
      "text/plain": [
       "<Figure size 432x288 with 1 Axes>"
      ]
     },
     "metadata": {
      "needs_background": "light"
     },
     "output_type": "display_data"
    }
   ],
   "source": [
    "# 트리 개수 튜닝\n",
    "\n",
    "n_estimator_min = 1\n",
    "n_estimator_max = 31\n",
    "\n",
    "optimi_estimator(algorithm, algorithm_name, \n",
    "                 X_train_deleted, y_train_deleted, X_test_deleted, y_test_deleted, \n",
    "                 n_estimator_min, n_estimator_max)"
   ]
  },
  {
   "cell_type": "markdown",
   "id": "d8abdb7c",
   "metadata": {},
   "source": [
    "그래프 시각화 결과 학습데이터에서 과적합 발생</br>\n",
    "트리기반 모델은 각 트리 모델별 bagging 방식을 사용하기때문에 트리 개수는 많을수록 과적합 방지에 유리함</br>\n",
    "따라서 학습 정확도와 테스트 정확도의 차이가 가장 적으면서 트리 개수가 가장 많은 65을 최적의 트리 개수로 설정(인덱스 12번)"
   ]
  },
  {
   "cell_type": "code",
   "execution_count": 47,
   "id": "7c6b748b",
   "metadata": {
    "scrolled": true
   },
   "outputs": [
    {
     "name": "stdout",
     "output_type": "stream",
     "text": [
      "    depth  TrainScore  TestScore\n",
      "0       1      0.6387     0.6391\n",
      "1       2      0.6993     0.6992\n",
      "2       3      0.7932     0.7933\n",
      "3       4      0.8370     0.8366\n",
      "4       5      0.8758     0.8757\n",
      "5       6      0.8941     0.8941\n",
      "6       7      0.9274     0.9275\n",
      "7       8      0.9728     0.9727\n",
      "8       9      0.9812     0.9808\n",
      "9      10      0.9918     0.9906\n",
      "10     11      0.9949     0.9935\n",
      "11     12      0.9983     0.9966\n",
      "12     13      0.9995     0.9979\n",
      "13     14      0.9999     0.9985\n",
      "14     15      1.0000     0.9988\n",
      "15     16      1.0000     0.9990\n",
      "16     17      1.0000     0.9989\n",
      "17     18      1.0000     0.9989\n",
      "18     19      1.0000     0.9990\n",
      "19     20      1.0000     0.9990\n"
     ]
    },
    {
     "data": {
      "image/png": "[encoded data removed]",
      "text/plain": [
       "<Figure size 432x288 with 1 Axes>"
      ]
     },
     "metadata": {
      "needs_background": "light"
     },
     "output_type": "display_data"
    }
   ],
   "source": [
    "# 최대 깊이 튜닝\n",
    "\n",
    "depth_min = 1\n",
    "depth_max = 21\n",
    "optimi_maxdepth(algorithm, algorithm_name, \n",
    "                X_train_deleted, y_train_deleted, X_test_deleted, y_test_deleted, \n",
    "                depth_min, depth_max, n_estimator)"
   ]
  },
  {
   "cell_type": "markdown",
   "id": "dd101412",
   "metadata": {},
   "source": [
    "최대 깊이는 적을수록 과적합 방지에 유리함</br>\n",
    "따라서 최대 깊이는 적고 학습 정확도와 테스트 정확도의 차이가 적은 16으로 설정(인덱스 15번)"
   ]
  },
  {
   "cell_type": "code",
   "execution_count": 51,
   "id": "76282672",
   "metadata": {
    "scrolled": true
   },
   "outputs": [
    {
     "name": "stdout",
     "output_type": "stream",
     "text": [
      "    min_samples_split  TrainScore  TestScore\n",
      "0                   2      1.0000     0.9990\n",
      "1                   4      1.0000     0.9988\n",
      "2                   6      0.9999     0.9989\n",
      "3                   8      0.9999     0.9987\n",
      "4                  10      0.9998     0.9987\n",
      "5                  12      0.9998     0.9987\n",
      "6                  14      0.9997     0.9983\n",
      "7                  16      0.9996     0.9985\n",
      "8                  18      0.9996     0.9983\n",
      "9                  20      0.9995     0.9983\n",
      "10                 22      0.9994     0.9983\n",
      "11                 24      0.9993     0.9982\n",
      "12                 26      0.9994     0.9982\n",
      "13                 28      0.9992     0.9981\n",
      "14                 30      0.9991     0.9979\n",
      "15                 32      0.9991     0.9980\n",
      "16                 34      0.9991     0.9980\n",
      "17                 36      0.9989     0.9978\n",
      "18                 38      0.9989     0.9978\n",
      "19                 40      0.9988     0.9976\n",
      "20                 42      0.9988     0.9977\n",
      "21                 44      0.9986     0.9974\n",
      "22                 46      0.9985     0.9974\n",
      "23                 48      0.9984     0.9972\n",
      "24                 50      0.9985     0.9974\n",
      "25                 52      0.9983     0.9972\n",
      "26                 54      0.9982     0.9970\n",
      "27                 56      0.9980     0.9969\n",
      "28                 58      0.9979     0.9968\n",
      "29                 60      0.9979     0.9968\n",
      "30                 62      0.9979     0.9969\n",
      "31                 64      0.9977     0.9966\n",
      "32                 66      0.9976     0.9964\n",
      "33                 68      0.9978     0.9967\n",
      "34                 70      0.9977     0.9967\n",
      "35                 72      0.9975     0.9965\n",
      "36                 74      0.9972     0.9963\n",
      "37                 76      0.9972     0.9963\n",
      "38                 78      0.9971     0.9961\n",
      "39                 80      0.9970     0.9960\n",
      "40                 82      0.9971     0.9962\n",
      "41                 84      0.9971     0.9962\n",
      "42                 86      0.9968     0.9959\n",
      "43                 88      0.9967     0.9957\n",
      "44                 90      0.9967     0.9958\n",
      "45                 92      0.9967     0.9958\n",
      "46                 94      0.9967     0.9957\n",
      "47                 96      0.9965     0.9956\n",
      "48                 98      0.9963     0.9953\n",
      "49                100      0.9962     0.9953\n",
      "50                102      0.9963     0.9954\n",
      "51                104      0.9962     0.9953\n",
      "52                106      0.9962     0.9953\n",
      "53                108      0.9961     0.9952\n",
      "54                110      0.9961     0.9952\n",
      "55                112      0.9962     0.9953\n",
      "56                114      0.9960     0.9952\n",
      "57                116      0.9956     0.9947\n",
      "58                118      0.9956     0.9947\n",
      "59                120      0.9958     0.9949\n"
     ]
    },
    {
     "data": {
      "image/png": "[encoded data removed]",
      "text/plain": [
       "<Figure size 432x288 with 1 Axes>"
      ]
     },
     "metadata": {
      "needs_background": "light"
     },
     "output_type": "display_data"
    }
   ],
   "source": [
    "# 분리 노드 수 설정\n",
    "\n",
    "n_split_min = 1\n",
    "n_split_max = 61\n",
    "\n",
    "# 데이터프레임 행 최대 100개까지 출력\n",
    "pd.set_option('display.max_row', 100)\n",
    "optimi_minsplit (algorithm, algorithm_name,\n",
    "                 X_train_deleted, y_train_deleted, X_test_deleted, y_test_deleted,\n",
    "                 n_split_min, n_split_max, n_estimator, n_depth)"
   ]
  },
  {
   "cell_type": "markdown",
   "id": "7464fe33",
   "metadata": {},
   "source": [
    "분리 노드의 수는 많을수록 과적합 방지에 유리함</br>\n",
    "따라서 학습 정확도와 테스트 정확도의 차이가 가장 적으면서 노드 수가 많은 114으로 설정(인덱스 56번)"
   ]
  },
  {
   "cell_type": "code",
   "execution_count": 53,
   "id": "860427b5",
   "metadata": {
    "scrolled": true
   },
   "outputs": [
    {
     "name": "stdout",
     "output_type": "stream",
     "text": [
      "    min_samples_leaf  TrainScore  TestScore\n",
      "0                  2      0.9957     0.9949\n",
      "1                  4      0.9958     0.9951\n",
      "2                  6      0.9954     0.9945\n",
      "3                  8      0.9956     0.9948\n",
      "4                 10      0.9956     0.9948\n",
      "5                 12      0.9953     0.9946\n",
      "6                 14      0.9949     0.9942\n",
      "7                 16      0.9953     0.9945\n",
      "8                 18      0.9950     0.9943\n",
      "9                 20      0.9945     0.9938\n",
      "10                22      0.9946     0.9940\n",
      "11                24      0.9945     0.9939\n",
      "12                26      0.9944     0.9937\n",
      "13                28      0.9942     0.9935\n",
      "14                30      0.9939     0.9933\n",
      "15                32      0.9942     0.9935\n",
      "16                34      0.9937     0.9930\n",
      "17                36      0.9936     0.9929\n",
      "18                38      0.9936     0.9930\n",
      "19                40      0.9934     0.9928\n",
      "20                42      0.9938     0.9933\n",
      "21                44      0.9929     0.9922\n",
      "22                46      0.9927     0.9922\n",
      "23                48      0.9930     0.9925\n",
      "24                50      0.9925     0.9919\n",
      "25                52      0.9928     0.9923\n",
      "26                54      0.9923     0.9919\n",
      "27                56      0.9923     0.9919\n",
      "28                58      0.9920     0.9915\n",
      "29                60      0.9918     0.9913\n",
      "30                62      0.9918     0.9912\n",
      "31                64      0.9910     0.9906\n",
      "32                66      0.9912     0.9908\n",
      "33                68      0.9909     0.9905\n",
      "34                70      0.9907     0.9902\n",
      "35                72      0.9910     0.9906\n",
      "36                74      0.9904     0.9901\n",
      "37                76      0.9903     0.9901\n",
      "38                78      0.9906     0.9902\n",
      "39                80      0.9896     0.9893\n",
      "40                82      0.9899     0.9897\n",
      "41                84      0.9895     0.9892\n",
      "42                86      0.9903     0.9902\n",
      "43                88      0.9896     0.9894\n",
      "44                90      0.9897     0.9894\n",
      "45                92      0.9897     0.9895\n",
      "46                94      0.9893     0.9890\n",
      "47                96      0.9894     0.9893\n",
      "48                98      0.9889     0.9889\n",
      "49               100      0.9888     0.9887\n"
     ]
    },
    {
     "data": {
      "image/png": "[encoded data removed]",
      "text/plain": [
       "<Figure size 432x288 with 1 Axes>"
      ]
     },
     "metadata": {
      "needs_background": "light"
     },
     "output_type": "display_data"
    }
   ],
   "source": [
    "# 최종 잎사귀 노드 수 설정\n",
    "\n",
    "n_leaf_min = 1\n",
    "n_leaf_max = 51\n",
    "optimi_minleaf(algorithm, algorithm_name, \n",
    "               X_train_deleted, y_train_deleted, X_test_deleted, y_test_deleted, \n",
    "               n_leaf_min, n_leaf_max, n_estimator, n_depth, n_split)"
   ]
  },
  {
   "cell_type": "markdown",
   "id": "92d62cf2",
   "metadata": {},
   "source": [
    "최종 노드 수는 많을수록 과적합 방지에 유리함</br>\n",
    "따라서 학습 정확도와 테스트 정확도의 차이가 적으면서 노드 수가 가장 많은 52로 설정(인덱스 25번)"
   ]
  },
  {
   "cell_type": "markdown",
   "id": "16c57235",
   "metadata": {},
   "source": [
    "#### 튜닝 후 모델 학습"
   ]
  },
  {
   "cell_type": "code",
   "execution_count": 54,
   "id": "20a461a6",
   "metadata": {},
   "outputs": [],
   "source": [
    "n_estimator = 65\n",
    "n_depth = 16\n",
    "n_split = 114\n",
    "n_leaf = 25"
   ]
  },
  {
   "cell_type": "code",
   "execution_count": 55,
   "id": "23107a64",
   "metadata": {},
   "outputs": [
    {
     "data": {
      "text/html": [
       "<style>#sk-container-id-5 {color: black;background-color: white;}#sk-container-id-5 pre{padding: 0;}#sk-container-id-5 div.sk-toggleable {background-color: white;}#sk-container-id-5 label.sk-toggleable__label {cursor: pointer;display: block;width: 100%;margin-bottom: 0;padding: 0.3em;box-sizing: border-box;text-align: center;}#sk-container-id-5 label.sk-toggleable__label-arrow:before {content: \"▸\";float: left;margin-right: 0.25em;color: #696969;}#sk-container-id-5 label.sk-toggleable__label-arrow:hover:before {color: black;}#sk-container-id-5 div.sk-estimator:hover label.sk-toggleable__label-arrow:before {color: black;}#sk-container-id-5 div.sk-toggleable__content {max-height: 0;max-width: 0;overflow: hidden;text-align: left;background-color: #f0f8ff;}#sk-container-id-5 div.sk-toggleable__content pre {margin: 0.2em;color: black;border-radius: 0.25em;background-color: #f0f8ff;}#sk-container-id-5 input.sk-toggleable__control:checked~div.sk-toggleable__content {max-height: 200px;max-width: 100%;overflow: auto;}#sk-container-id-5 input.sk-toggleable__control:checked~label.sk-toggleable__label-arrow:before {content: \"▾\";}#sk-container-id-5 div.sk-estimator input.sk-toggleable__control:checked~label.sk-toggleable__label {background-color: #d4ebff;}#sk-container-id-5 div.sk-label input.sk-toggleable__control:checked~label.sk-toggleable__label {background-color: #d4ebff;}#sk-container-id-5 input.sk-hidden--visually {border: 0;clip: rect(1px 1px 1px 1px);clip: rect(1px, 1px, 1px, 1px);height: 1px;margin: -1px;overflow: hidden;padding: 0;position: absolute;width: 1px;}#sk-container-id-5 div.sk-estimator {font-family: monospace;background-color: #f0f8ff;border: 1px dotted black;border-radius: 0.25em;box-sizing: border-box;margin-bottom: 0.5em;}#sk-container-id-5 div.sk-estimator:hover {background-color: #d4ebff;}#sk-container-id-5 div.sk-parallel-item::after {content: \"\";width: 100%;border-bottom: 1px solid gray;flex-grow: 1;}#sk-container-id-5 div.sk-label:hover label.sk-toggleable__label {background-color: #d4ebff;}#sk-container-id-5 div.sk-serial::before {content: \"\";position: absolute;border-left: 1px solid gray;box-sizing: border-box;top: 0;bottom: 0;left: 50%;z-index: 0;}#sk-container-id-5 div.sk-serial {display: flex;flex-direction: column;align-items: center;background-color: white;padding-right: 0.2em;padding-left: 0.2em;position: relative;}#sk-container-id-5 div.sk-item {position: relative;z-index: 1;}#sk-container-id-5 div.sk-parallel {display: flex;align-items: stretch;justify-content: center;background-color: white;position: relative;}#sk-container-id-5 div.sk-item::before, #sk-container-id-5 div.sk-parallel-item::before {content: \"\";position: absolute;border-left: 1px solid gray;box-sizing: border-box;top: 0;bottom: 0;left: 50%;z-index: -1;}#sk-container-id-5 div.sk-parallel-item {display: flex;flex-direction: column;z-index: 1;position: relative;background-color: white;}#sk-container-id-5 div.sk-parallel-item:first-child::after {align-self: flex-end;width: 50%;}#sk-container-id-5 div.sk-parallel-item:last-child::after {align-self: flex-start;width: 50%;}#sk-container-id-5 div.sk-parallel-item:only-child::after {width: 0;}#sk-container-id-5 div.sk-dashed-wrapped {border: 1px dashed gray;margin: 0 0.4em 0.5em 0.4em;box-sizing: border-box;padding-bottom: 0.4em;background-color: white;}#sk-container-id-5 div.sk-label label {font-family: monospace;font-weight: bold;display: inline-block;line-height: 1.2em;}#sk-container-id-5 div.sk-label-container {text-align: center;}#sk-container-id-5 div.sk-container {/* jupyter's `normalize.less` sets `[hidden] { display: none; }` but bootstrap.min.css set `[hidden] { display: none !important; }` so we also need the `!important` here to be able to override the default hidden behavior on the sphinx rendered scikit-learn.org. See: https://github.com/scikit-learn/scikit-learn/issues/21755 */display: inline-block !important;position: relative;}#sk-container-id-5 div.sk-text-repr-fallback {display: none;}</style><div id=\"sk-container-id-5\" class=\"sk-top-container\"><div class=\"sk-text-repr-fallback\"><pre>RandomForestClassifier(max_depth=16, min_samples_leaf=25, min_samples_split=114,\n",
       "                       n_estimators=65, random_state=77)</pre><b>In a Jupyter environment, please rerun this cell to show the HTML representation or trust the notebook. <br />On GitHub, the HTML representation is unable to render, please try loading this page with nbviewer.org.</b></div><div class=\"sk-container\" hidden><div class=\"sk-item\"><div class=\"sk-estimator sk-toggleable\"><input class=\"sk-toggleable__control sk-hidden--visually\" id=\"sk-estimator-id-5\" type=\"checkbox\" checked><label for=\"sk-estimator-id-5\" class=\"sk-toggleable__label sk-toggleable__label-arrow\">RandomForestClassifier</label><div class=\"sk-toggleable__content\"><pre>RandomForestClassifier(max_depth=16, min_samples_leaf=25, min_samples_split=114,\n",
       "                       n_estimators=65, random_state=77)</pre></div></div></div></div></div>"
      ],
      "text/plain": [
       "RandomForestClassifier(max_depth=16, min_samples_leaf=25, min_samples_split=114,\n",
       "                       n_estimators=65, random_state=77)"
      ]
     },
     "execution_count": 55,
     "metadata": {},
     "output_type": "execute_result"
    }
   ],
   "source": [
    "# 모델 구축\n",
    "\n",
    "rf_deleted_final = RandomForestClassifier(random_state=77,\n",
    "                                         n_estimators=n_estimator,\n",
    "                                         min_samples_leaf=n_leaf,\n",
    "                                         min_samples_split=n_split,\n",
    "                                         max_depth=n_depth)\n",
    "\n",
    "rf_deleted_final.fit(X_train_deleted, y_train_deleted)"
   ]
  },
  {
   "cell_type": "code",
   "execution_count": 56,
   "id": "b8348146",
   "metadata": {},
   "outputs": [
    {
     "name": "stdout",
     "output_type": "stream",
     "text": [
      "결측치 제거 모델 학습 정확도 :0.994\n"
     ]
    }
   ],
   "source": [
    "# 모델 학습 정확도 파악\n",
    "\n",
    "print(f'결측치 제거 모델 학습 정확도 :{rf_deleted_final.score(X_train_deleted, y_train_deleted).round(3)}')\n",
    "\n",
    "# 과적합 개선된 것 확인"
   ]
  },
  {
   "cell_type": "markdown",
   "id": "47784b78",
   "metadata": {},
   "source": [
    "### 결측치 대체 모델 "
   ]
  },
  {
   "cell_type": "code",
   "execution_count": 64,
   "id": "01d26b81",
   "metadata": {
    "scrolled": true
   },
   "outputs": [
    {
     "name": "stdout",
     "output_type": "stream",
     "text": [
      "    n_estimators  TrainScore  TestScore\n",
      "0              5      0.9970     0.9674\n",
      "1             10      0.9994     0.9735\n",
      "2             15      0.9998     0.9762\n",
      "3             20      0.9999     0.9780\n",
      "4             25      1.0000     0.9790\n",
      "5             30      1.0000     0.9795\n",
      "6             35      1.0000     0.9801\n",
      "7             40      1.0000     0.9802\n",
      "8             45      1.0000     0.9806\n",
      "9             50      1.0000     0.9805\n",
      "10            55      1.0000     0.9810\n",
      "11            60      1.0000     0.9811\n",
      "12            65      1.0000     0.9813\n",
      "13            70      1.0000     0.9814\n",
      "14            75      1.0000     0.9813\n",
      "15            80      1.0000     0.9815\n",
      "16            85      1.0000     0.9816\n",
      "17            90      1.0000     0.9815\n",
      "18            95      1.0000     0.9815\n"
     ]
    },
    {
     "data": {
      "image/png": "[encoded data removed]",
      "text/plain": [
       "<Figure size 432x288 with 1 Axes>"
      ]
     },
     "metadata": {
      "needs_background": "light"
     },
     "output_type": "display_data"
    }
   ],
   "source": [
    "# 트리 개수 튜닝\n",
    "\n",
    "n_estimator_min = 1\n",
    "n_estimator_max = 20\n",
    "\n",
    "optimi_estimator(algorithm, algorithm_name, \n",
    "                 X_train, y_train, X_test, y_test, \n",
    "                 n_estimator_min, n_estimator_max)"
   ]
  },
  {
   "cell_type": "code",
   "execution_count": 65,
   "id": "2bc92dc8",
   "metadata": {},
   "outputs": [],
   "source": [
    "n_estimator = 85"
   ]
  },
  {
   "cell_type": "code",
   "execution_count": 66,
   "id": "3f7ce754",
   "metadata": {
    "scrolled": true
   },
   "outputs": [
    {
     "name": "stdout",
     "output_type": "stream",
     "text": [
      "    depth  TrainScore  TestScore\n",
      "0       1      0.6523     0.6542\n",
      "1       2      0.6592     0.6609\n",
      "2       3      0.6822     0.6834\n",
      "3       4      0.7090     0.7099\n",
      "4       5      0.7515     0.7525\n",
      "5       6      0.7984     0.7993\n",
      "6       7      0.8256     0.8256\n",
      "7       8      0.8558     0.8551\n",
      "8       9      0.8849     0.8820\n",
      "9      10      0.9098     0.9053\n",
      "10     11      0.9318     0.9239\n",
      "11     12      0.9504     0.9393\n",
      "12     13      0.9679     0.9526\n",
      "13     14      0.9804     0.9623\n"
     ]
    },
    {
     "data": {
      "image/png": "[encoded data removed]",
      "text/plain": [
       "<Figure size 432x288 with 1 Axes>"
      ]
     },
     "metadata": {
      "needs_background": "light"
     },
     "output_type": "display_data"
    }
   ],
   "source": [
    "# 최대 깊이 튜닝\n",
    "\n",
    "depth_min = 1\n",
    "depth_max = 15\n",
    "optimi_maxdepth(algorithm, algorithm_name, \n",
    "                X_train, y_train, X_test, y_test, \n",
    "                depth_min, depth_max, n_estimator)"
   ]
  },
  {
   "cell_type": "code",
   "execution_count": 68,
   "id": "ad4b76eb",
   "metadata": {},
   "outputs": [],
   "source": [
    "n_depth = 14"
   ]
  },
  {
   "cell_type": "code",
   "execution_count": 70,
   "id": "15451ba1",
   "metadata": {
    "scrolled": true
   },
   "outputs": [
    {
     "name": "stdout",
     "output_type": "stream",
     "text": [
      "    min_samples_split  TrainScore  TestScore\n",
      "0                   2      0.9804     0.9623\n",
      "1                   4      0.9819     0.9637\n",
      "2                   6      0.9805     0.9633\n",
      "3                   8      0.9797     0.9632\n",
      "4                  10      0.9793     0.9633\n",
      "5                  12      0.9775     0.9624\n",
      "6                  14      0.9769     0.9625\n",
      "7                  16      0.9755     0.9613\n",
      "8                  18      0.9750     0.9615\n",
      "9                  20      0.9742     0.9610\n",
      "10                 22      0.9742     0.9613\n",
      "11                 24      0.9732     0.9610\n",
      "12                 26      0.9732     0.9610\n",
      "13                 28      0.9724     0.9607\n",
      "14                 30      0.9723     0.9610\n",
      "15                 32      0.9716     0.9606\n",
      "16                 34      0.9705     0.9594\n",
      "17                 36      0.9702     0.9591\n",
      "18                 38      0.9693     0.9587\n",
      "19                 40      0.9690     0.9585\n",
      "20                 42      0.9692     0.9587\n",
      "21                 44      0.9684     0.9582\n",
      "22                 46      0.9680     0.9584\n",
      "23                 48      0.9678     0.9577\n",
      "24                 50      0.9673     0.9580\n",
      "25                 52      0.9667     0.9575\n",
      "26                 54      0.9664     0.9575\n",
      "27                 56      0.9652     0.9564\n",
      "28                 58      0.9653     0.9563\n",
      "29                 60      0.9651     0.9562\n"
     ]
    },
    {
     "data": {
      "image/png": "[encoded data removed]",
      "text/plain": [
       "<Figure size 432x288 with 1 Axes>"
      ]
     },
     "metadata": {
      "needs_background": "light"
     },
     "output_type": "display_data"
    }
   ],
   "source": [
    "# 분리 노드 수 설정\n",
    "\n",
    "n_split_min = 1\n",
    "n_split_max = 31\n",
    "\n",
    "# 데이터프레임 행 최대 100개까지 출력\n",
    "pd.set_option('display.max_row', 100)\n",
    "optimi_minsplit (algorithm, algorithm_name,\n",
    "                 X_train, y_train, X_test, y_test,\n",
    "                 n_split_min, n_split_max, n_estimator, n_depth)"
   ]
  },
  {
   "cell_type": "code",
   "execution_count": 71,
   "id": "a5b4274c",
   "metadata": {},
   "outputs": [],
   "source": [
    "n_split = 60"
   ]
  },
  {
   "cell_type": "code",
   "execution_count": 72,
   "id": "b988f7ec",
   "metadata": {
    "scrolled": true
   },
   "outputs": [
    {
     "name": "stdout",
     "output_type": "stream",
     "text": [
      "    min_samples_leaf  TrainScore  TestScore\n",
      "0                  2      0.9646     0.9557\n",
      "1                  4      0.9641     0.9557\n",
      "2                  6      0.9635     0.9551\n",
      "3                  8      0.9624     0.9544\n",
      "4                 10      0.9619     0.9538\n",
      "5                 12      0.9607     0.9525\n",
      "6                 14      0.9606     0.9528\n",
      "7                 16      0.9603     0.9526\n",
      "8                 18      0.9591     0.9508\n",
      "9                 20      0.9581     0.9505\n",
      "10                22      0.9594     0.9519\n",
      "11                24      0.9567     0.9495\n",
      "12                26      0.9568     0.9497\n",
      "13                28      0.9563     0.9497\n",
      "14                30      0.9543     0.9474\n",
      "15                32      0.9532     0.9468\n",
      "16                34      0.9519     0.9454\n",
      "17                36      0.9518     0.9458\n",
      "18                38      0.9498     0.9439\n",
      "19                40      0.9491     0.9432\n",
      "20                42      0.9486     0.9429\n",
      "21                44      0.9481     0.9425\n",
      "22                46      0.9462     0.9408\n",
      "23                48      0.9458     0.9404\n",
      "24                50      0.9444     0.9396\n",
      "25                52      0.9441     0.9390\n",
      "26                54      0.9429     0.9385\n",
      "27                56      0.9423     0.9375\n",
      "28                58      0.9419     0.9371\n",
      "29                60      0.9409     0.9368\n",
      "30                62      0.9401     0.9356\n",
      "31                64      0.9392     0.9348\n",
      "32                66      0.9387     0.9337\n",
      "33                68      0.9376     0.9337\n",
      "34                70      0.9374     0.9334\n",
      "35                72      0.9359     0.9318\n",
      "36                74      0.9365     0.9326\n",
      "37                76      0.9345     0.9309\n",
      "38                78      0.9347     0.9308\n",
      "39                80      0.9338     0.9303\n",
      "40                82      0.9338     0.9300\n",
      "41                84      0.9321     0.9286\n",
      "42                86      0.9316     0.9281\n",
      "43                88      0.9324     0.9291\n",
      "44                90      0.9317     0.9282\n",
      "45                92      0.9312     0.9278\n",
      "46                94      0.9308     0.9273\n",
      "47                96      0.9284     0.9257\n",
      "48                98      0.9288     0.9253\n",
      "49               100      0.9286     0.9255\n"
     ]
    },
    {
     "data": {
      "image/png": "[encoded data removed]",
      "text/plain": [
       "<Figure size 432x288 with 1 Axes>"
      ]
     },
     "metadata": {
      "needs_background": "light"
     },
     "output_type": "display_data"
    }
   ],
   "source": [
    "# 최종 잎사귀 노드 수 설정\n",
    "\n",
    "n_leaf_min = 1\n",
    "n_leaf_max = 51\n",
    "optimi_minleaf(algorithm, algorithm_name, \n",
    "               X_train, y_train, X_test, y_test, \n",
    "               n_leaf_min, n_leaf_max, n_estimator, n_depth, n_split)"
   ]
  },
  {
   "cell_type": "code",
   "execution_count": 73,
   "id": "4d5cdd44",
   "metadata": {},
   "outputs": [],
   "source": [
    "n_leaf = 92"
   ]
  },
  {
   "cell_type": "code",
   "execution_count": 75,
   "id": "4a81ef49",
   "metadata": {},
   "outputs": [
    {
     "data": {
      "text/html": [
       "<style>#sk-container-id-6 {color: black;background-color: white;}#sk-container-id-6 pre{padding: 0;}#sk-container-id-6 div.sk-toggleable {background-color: white;}#sk-container-id-6 label.sk-toggleable__label {cursor: pointer;display: block;width: 100%;margin-bottom: 0;padding: 0.3em;box-sizing: border-box;text-align: center;}#sk-container-id-6 label.sk-toggleable__label-arrow:before {content: \"▸\";float: left;margin-right: 0.25em;color: #696969;}#sk-container-id-6 label.sk-toggleable__label-arrow:hover:before {color: black;}#sk-container-id-6 div.sk-estimator:hover label.sk-toggleable__label-arrow:before {color: black;}#sk-container-id-6 div.sk-toggleable__content {max-height: 0;max-width: 0;overflow: hidden;text-align: left;background-color: #f0f8ff;}#sk-container-id-6 div.sk-toggleable__content pre {margin: 0.2em;color: black;border-radius: 0.25em;background-color: #f0f8ff;}#sk-container-id-6 input.sk-toggleable__control:checked~div.sk-toggleable__content {max-height: 200px;max-width: 100%;overflow: auto;}#sk-container-id-6 input.sk-toggleable__control:checked~label.sk-toggleable__label-arrow:before {content: \"▾\";}#sk-container-id-6 div.sk-estimator input.sk-toggleable__control:checked~label.sk-toggleable__label {background-color: #d4ebff;}#sk-container-id-6 div.sk-label input.sk-toggleable__control:checked~label.sk-toggleable__label {background-color: #d4ebff;}#sk-container-id-6 input.sk-hidden--visually {border: 0;clip: rect(1px 1px 1px 1px);clip: rect(1px, 1px, 1px, 1px);height: 1px;margin: -1px;overflow: hidden;padding: 0;position: absolute;width: 1px;}#sk-container-id-6 div.sk-estimator {font-family: monospace;background-color: #f0f8ff;border: 1px dotted black;border-radius: 0.25em;box-sizing: border-box;margin-bottom: 0.5em;}#sk-container-id-6 div.sk-estimator:hover {background-color: #d4ebff;}#sk-container-id-6 div.sk-parallel-item::after {content: \"\";width: 100%;border-bottom: 1px solid gray;flex-grow: 1;}#sk-container-id-6 div.sk-label:hover label.sk-toggleable__label {background-color: #d4ebff;}#sk-container-id-6 div.sk-serial::before {content: \"\";position: absolute;border-left: 1px solid gray;box-sizing: border-box;top: 0;bottom: 0;left: 50%;z-index: 0;}#sk-container-id-6 div.sk-serial {display: flex;flex-direction: column;align-items: center;background-color: white;padding-right: 0.2em;padding-left: 0.2em;position: relative;}#sk-container-id-6 div.sk-item {position: relative;z-index: 1;}#sk-container-id-6 div.sk-parallel {display: flex;align-items: stretch;justify-content: center;background-color: white;position: relative;}#sk-container-id-6 div.sk-item::before, #sk-container-id-6 div.sk-parallel-item::before {content: \"\";position: absolute;border-left: 1px solid gray;box-sizing: border-box;top: 0;bottom: 0;left: 50%;z-index: -1;}#sk-container-id-6 div.sk-parallel-item {display: flex;flex-direction: column;z-index: 1;position: relative;background-color: white;}#sk-container-id-6 div.sk-parallel-item:first-child::after {align-self: flex-end;width: 50%;}#sk-container-id-6 div.sk-parallel-item:last-child::after {align-self: flex-start;width: 50%;}#sk-container-id-6 div.sk-parallel-item:only-child::after {width: 0;}#sk-container-id-6 div.sk-dashed-wrapped {border: 1px dashed gray;margin: 0 0.4em 0.5em 0.4em;box-sizing: border-box;padding-bottom: 0.4em;background-color: white;}#sk-container-id-6 div.sk-label label {font-family: monospace;font-weight: bold;display: inline-block;line-height: 1.2em;}#sk-container-id-6 div.sk-label-container {text-align: center;}#sk-container-id-6 div.sk-container {/* jupyter's `normalize.less` sets `[hidden] { display: none; }` but bootstrap.min.css set `[hidden] { display: none !important; }` so we also need the `!important` here to be able to override the default hidden behavior on the sphinx rendered scikit-learn.org. See: https://github.com/scikit-learn/scikit-learn/issues/21755 */display: inline-block !important;position: relative;}#sk-container-id-6 div.sk-text-repr-fallback {display: none;}</style><div id=\"sk-container-id-6\" class=\"sk-top-container\"><div class=\"sk-text-repr-fallback\"><pre>RandomForestClassifier(max_depth=14, min_samples_leaf=92, min_samples_split=60,\n",
       "                       n_estimators=85, random_state=77)</pre><b>In a Jupyter environment, please rerun this cell to show the HTML representation or trust the notebook. <br />On GitHub, the HTML representation is unable to render, please try loading this page with nbviewer.org.</b></div><div class=\"sk-container\" hidden><div class=\"sk-item\"><div class=\"sk-estimator sk-toggleable\"><input class=\"sk-toggleable__control sk-hidden--visually\" id=\"sk-estimator-id-6\" type=\"checkbox\" checked><label for=\"sk-estimator-id-6\" class=\"sk-toggleable__label sk-toggleable__label-arrow\">RandomForestClassifier</label><div class=\"sk-toggleable__content\"><pre>RandomForestClassifier(max_depth=14, min_samples_leaf=92, min_samples_split=60,\n",
       "                       n_estimators=85, random_state=77)</pre></div></div></div></div></div>"
      ],
      "text/plain": [
       "RandomForestClassifier(max_depth=14, min_samples_leaf=92, min_samples_split=60,\n",
       "                       n_estimators=85, random_state=77)"
      ]
     },
     "execution_count": 75,
     "metadata": {},
     "output_type": "execute_result"
    }
   ],
   "source": [
    "# 모델 구축\n",
    "\n",
    "rf_final = RandomForestClassifier(random_state=77,\n",
    "                                         n_estimators=n_estimator,\n",
    "                                         min_samples_leaf=n_leaf,\n",
    "                                         min_samples_split=n_split,\n",
    "                                         max_depth=n_depth)\n",
    "\n",
    "rf_final.fit(X_train, y_train)"
   ]
  },
  {
   "cell_type": "code",
   "execution_count": 166,
   "id": "b78d81da",
   "metadata": {},
   "outputs": [
    {
     "name": "stdout",
     "output_type": "stream",
     "text": [
      "결측치 제거 모델 학습 정확도 :0.994\n",
      "결측치 대체 모델 학습 정확도 :0.931\n"
     ]
    }
   ],
   "source": [
    "# 모델 학습 정확도 파악\n",
    "\n",
    "print(f'결측치 제거 모델 학습 정확도 :{rf_deleted_final.score(X_train_deleted, y_train_deleted).round(3)}')\n",
    "print(f'결측치 대체 모델 학습 정확도 :{rf_final.score(X_train, y_train).round(3)}')\n",
    "\n",
    "# 과적합 개선된 것 확인"
   ]
  },
  {
   "cell_type": "code",
   "execution_count": 165,
   "id": "5712df87",
   "metadata": {},
   "outputs": [],
   "source": [
    "# 결측치 제거 최종 모델 예측값\n",
    "rf_deleted_final_predict = rf_deleted_final.predict(X_test_deleted)"
   ]
  },
  {
   "cell_type": "code",
   "execution_count": 77,
   "id": "5c4cb119",
   "metadata": {},
   "outputs": [],
   "source": [
    "# 결측치 제거 최종 모델 예측값\n",
    "rf_final_predict = rf_final.predict(X_test)"
   ]
  },
  {
   "cell_type": "code",
   "execution_count": 79,
   "id": "da7d2657",
   "metadata": {},
   "outputs": [
    {
     "name": "stdout",
     "output_type": "stream",
     "text": [
      "결측치 제거 모델 리포트 : \n",
      "               precision    recall  f1-score   support\n",
      "\n",
      "           0       1.00      1.00      1.00    160175\n",
      "           1       0.99      1.00      0.99    107609\n",
      "           2       0.98      0.98      0.98     29299\n",
      "           3       0.95      0.68      0.79      1371\n",
      "           4       0.94      0.20      0.33       162\n",
      "\n",
      "    accuracy                           0.99    298616\n",
      "   macro avg       0.97      0.77      0.82    298616\n",
      "weighted avg       0.99      0.99      0.99    298616\n",
      " \n",
      "\n",
      "결측치 대체 모델 리포트 : \n",
      "               precision    recall  f1-score   support\n",
      "\n",
      "           0       0.97      0.99      0.98    128182\n",
      "           1       0.87      0.83      0.85     28265\n",
      "           2       0.80      0.81      0.80     18508\n",
      "           3       0.80      0.66      0.72     10946\n",
      "           4       0.87      0.87      0.87     10040\n",
      "\n",
      "    accuracy                           0.93    195941\n",
      "   macro avg       0.86      0.83      0.85    195941\n",
      "weighted avg       0.93      0.93      0.93    195941\n",
      " \n",
      "\n"
     ]
    }
   ],
   "source": [
    "# 결측치 제거 최종 모델 리포트\n",
    "rf_deleted_final_report = classification_report(y_test_deleted, rf_deleted_final_predict)\n",
    "\n",
    "print(f'결측치 제거 모델 리포트 : \\n {rf_deleted_final_report} \\n')\n",
    "\n",
    "# 결측치 대체 최종 모델 리포트\n",
    "rf_final_report = classification_report(y_test, rf_final_predict)\n",
    "\n",
    "print(f'결측치 대체 모델 리포트 : \\n {rf_final_report} \\n')"
   ]
  },
  {
   "cell_type": "markdown",
   "id": "2848e4eb",
   "metadata": {},
   "source": [
    "<center>\n",
    "    랜덤포레스트 모델 평가\n",
    "\n",
    "|결측치 처리 방법|정확도|macro avg of f1-score|weighted avg of f1-score|\n",
    "|---|---|---|---|\n",
    "|결측치 제거|1.00|0.98|1.00|\n",
    "|결측치 대체|0.98|0.96|0.98|</center>\n",
    "\n",
    "\n",
    "</br>\n",
    "<center>\n",
    "    랜덤포레스트 튜닝 후 모델 평가\n",
    "\n",
    "|결측치 처리 방법|정확도|macro avg of f1-score|weighted avg of f1-score|\n",
    "|---|---|---|---|\n",
    "|결측치 제거|0.99|0.82|0.99|\n",
    "|결측치 대체|0.93|0.85|0.93|</center>"
   ]
  },
  {
   "cell_type": "markdown",
   "id": "bd3be267",
   "metadata": {},
   "source": [
    "과적합이 개선되면서 결측치 제거 모델의 경우 데이터 비율이 적은 고위험군, 극위험군의 조화평균이 매우 감소함</br>\n",
    "과적합 개선 후 결측치 대체 모델이 성능이 더 좋으므로 이후 모델에서는 결측치 대체 모델을 선택하고 튜닝 진행"
   ]
  },
  {
   "cell_type": "markdown",
   "id": "55400670",
   "metadata": {},
   "source": [
    "## LGBM 모델 튜닝"
   ]
  },
  {
   "cell_type": "markdown",
   "id": "f6bc605f",
   "metadata": {},
   "source": [
    "### 결측치 제거 모델 "
   ]
  },
  {
   "cell_type": "code",
   "execution_count": 80,
   "id": "d0f347ea",
   "metadata": {},
   "outputs": [],
   "source": [
    "algorithm = LGBMClassifier\n",
    "algorithm_name = 'lgbm'"
   ]
  },
  {
   "cell_type": "code",
   "execution_count": 92,
   "id": "92da80ee",
   "metadata": {
    "scrolled": true
   },
   "outputs": [
    {
     "name": "stdout",
     "output_type": "stream",
     "text": [
      "    n_estimators  TrainScore  TestScore\n",
      "0              5      0.9680     0.9678\n",
      "1             10      0.9708     0.9706\n",
      "2             15      0.9767     0.9765\n",
      "3             20      0.9793     0.9791\n",
      "4             25      0.9818     0.9814\n",
      "5             30      0.9859     0.9855\n",
      "6             35      0.9871     0.9865\n",
      "7             40      0.9878     0.9872\n",
      "8             45      0.9842     0.9837\n",
      "9             50      0.9875     0.9869\n",
      "10            55      0.9886     0.9877\n",
      "11            60      0.9893     0.9884\n",
      "12            65      0.9892     0.9882\n",
      "13            70      0.9891     0.9881\n",
      "14            75      0.9903     0.9893\n",
      "15            80      0.9880     0.9870\n",
      "16            85      0.9877     0.9865\n",
      "17            90      0.9878     0.9866\n",
      "18            95      0.9851     0.9839\n"
     ]
    },
    {
     "data": {
      "image/png": "[encoded data removed]",
      "text/plain": [
       "<Figure size 432x288 with 1 Axes>"
      ]
     },
     "metadata": {
      "needs_background": "light"
     },
     "output_type": "display_data"
    }
   ],
   "source": [
    "# 트리 개수 튜닝\n",
    "\n",
    "n_estimator_min = 1\n",
    "n_estimator_max = 20\n",
    "\n",
    "optimi_estimator(algorithm, algorithm_name, \n",
    "                 X_train_deleted, y_train_deleted, X_test_deleted, y_test_deleted, \n",
    "                 n_estimator_min, n_estimator_max)"
   ]
  },
  {
   "cell_type": "code",
   "execution_count": 93,
   "id": "9a31eac5",
   "metadata": {},
   "outputs": [],
   "source": [
    "n_estimator = 20"
   ]
  },
  {
   "cell_type": "code",
   "execution_count": 94,
   "id": "75f4b060",
   "metadata": {
    "scrolled": true
   },
   "outputs": [
    {
     "name": "stdout",
     "output_type": "stream",
     "text": [
      "    depth  TrainScore  TestScore\n",
      "0       1      0.7658     0.7668\n",
      "1       2      0.8591     0.8588\n",
      "2       3      0.8953     0.8954\n",
      "3       4      0.9430     0.9425\n",
      "4       5      0.9752     0.9749\n",
      "5       6      0.9778     0.9774\n",
      "6       7      0.9779     0.9774\n",
      "7       8      0.9791     0.9789\n",
      "8       9      0.9781     0.9778\n",
      "9      10      0.9787     0.9786\n",
      "10     11      0.9785     0.9783\n",
      "11     12      0.9793     0.9791\n",
      "12     13      0.9793     0.9791\n",
      "13     14      0.9793     0.9791\n"
     ]
    },
    {
     "data": {
      "image/png": "[encoded data removed]",
      "text/plain": [
       "<Figure size 432x288 with 1 Axes>"
      ]
     },
     "metadata": {
      "needs_background": "light"
     },
     "output_type": "display_data"
    }
   ],
   "source": [
    "# 최대 깊이 튜닝\n",
    "\n",
    "depth_min = 1\n",
    "depth_max = 15\n",
    "optimi_maxdepth(algorithm, algorithm_name, \n",
    "                X_train_deleted, y_train_deleted, X_test_deleted, y_test_deleted, \n",
    "                depth_min, depth_max, n_estimator)"
   ]
  },
  {
   "cell_type": "code",
   "execution_count": 95,
   "id": "66bd5ae3",
   "metadata": {},
   "outputs": [],
   "source": [
    "n_depth = 12"
   ]
  },
  {
   "cell_type": "code",
   "execution_count": 96,
   "id": "e6541ace",
   "metadata": {},
   "outputs": [
    {
     "data": {
      "text/html": [
       "<style>#sk-container-id-9 {color: black;background-color: white;}#sk-container-id-9 pre{padding: 0;}#sk-container-id-9 div.sk-toggleable {background-color: white;}#sk-container-id-9 label.sk-toggleable__label {cursor: pointer;display: block;width: 100%;margin-bottom: 0;padding: 0.3em;box-sizing: border-box;text-align: center;}#sk-container-id-9 label.sk-toggleable__label-arrow:before {content: \"▸\";float: left;margin-right: 0.25em;color: #696969;}#sk-container-id-9 label.sk-toggleable__label-arrow:hover:before {color: black;}#sk-container-id-9 div.sk-estimator:hover label.sk-toggleable__label-arrow:before {color: black;}#sk-container-id-9 div.sk-toggleable__content {max-height: 0;max-width: 0;overflow: hidden;text-align: left;background-color: #f0f8ff;}#sk-container-id-9 div.sk-toggleable__content pre {margin: 0.2em;color: black;border-radius: 0.25em;background-color: #f0f8ff;}#sk-container-id-9 input.sk-toggleable__control:checked~div.sk-toggleable__content {max-height: 200px;max-width: 100%;overflow: auto;}#sk-container-id-9 input.sk-toggleable__control:checked~label.sk-toggleable__label-arrow:before {content: \"▾\";}#sk-container-id-9 div.sk-estimator input.sk-toggleable__control:checked~label.sk-toggleable__label {background-color: #d4ebff;}#sk-container-id-9 div.sk-label input.sk-toggleable__control:checked~label.sk-toggleable__label {background-color: #d4ebff;}#sk-container-id-9 input.sk-hidden--visually {border: 0;clip: rect(1px 1px 1px 1px);clip: rect(1px, 1px, 1px, 1px);height: 1px;margin: -1px;overflow: hidden;padding: 0;position: absolute;width: 1px;}#sk-container-id-9 div.sk-estimator {font-family: monospace;background-color: #f0f8ff;border: 1px dotted black;border-radius: 0.25em;box-sizing: border-box;margin-bottom: 0.5em;}#sk-container-id-9 div.sk-estimator:hover {background-color: #d4ebff;}#sk-container-id-9 div.sk-parallel-item::after {content: \"\";width: 100%;border-bottom: 1px solid gray;flex-grow: 1;}#sk-container-id-9 div.sk-label:hover label.sk-toggleable__label {background-color: #d4ebff;}#sk-container-id-9 div.sk-serial::before {content: \"\";position: absolute;border-left: 1px solid gray;box-sizing: border-box;top: 0;bottom: 0;left: 50%;z-index: 0;}#sk-container-id-9 div.sk-serial {display: flex;flex-direction: column;align-items: center;background-color: white;padding-right: 0.2em;padding-left: 0.2em;position: relative;}#sk-container-id-9 div.sk-item {position: relative;z-index: 1;}#sk-container-id-9 div.sk-parallel {display: flex;align-items: stretch;justify-content: center;background-color: white;position: relative;}#sk-container-id-9 div.sk-item::before, #sk-container-id-9 div.sk-parallel-item::before {content: \"\";position: absolute;border-left: 1px solid gray;box-sizing: border-box;top: 0;bottom: 0;left: 50%;z-index: -1;}#sk-container-id-9 div.sk-parallel-item {display: flex;flex-direction: column;z-index: 1;position: relative;background-color: white;}#sk-container-id-9 div.sk-parallel-item:first-child::after {align-self: flex-end;width: 50%;}#sk-container-id-9 div.sk-parallel-item:last-child::after {align-self: flex-start;width: 50%;}#sk-container-id-9 div.sk-parallel-item:only-child::after {width: 0;}#sk-container-id-9 div.sk-dashed-wrapped {border: 1px dashed gray;margin: 0 0.4em 0.5em 0.4em;box-sizing: border-box;padding-bottom: 0.4em;background-color: white;}#sk-container-id-9 div.sk-label label {font-family: monospace;font-weight: bold;display: inline-block;line-height: 1.2em;}#sk-container-id-9 div.sk-label-container {text-align: center;}#sk-container-id-9 div.sk-container {/* jupyter's `normalize.less` sets `[hidden] { display: none; }` but bootstrap.min.css set `[hidden] { display: none !important; }` so we also need the `!important` here to be able to override the default hidden behavior on the sphinx rendered scikit-learn.org. See: https://github.com/scikit-learn/scikit-learn/issues/21755 */display: inline-block !important;position: relative;}#sk-container-id-9 div.sk-text-repr-fallback {display: none;}</style><div id=\"sk-container-id-9\" class=\"sk-top-container\"><div class=\"sk-text-repr-fallback\"><pre>LGBMClassifier(max_depth=12, n_estimators=20, random_state=77)</pre><b>In a Jupyter environment, please rerun this cell to show the HTML representation or trust the notebook. <br />On GitHub, the HTML representation is unable to render, please try loading this page with nbviewer.org.</b></div><div class=\"sk-container\" hidden><div class=\"sk-item\"><div class=\"sk-estimator sk-toggleable\"><input class=\"sk-toggleable__control sk-hidden--visually\" id=\"sk-estimator-id-9\" type=\"checkbox\" checked><label for=\"sk-estimator-id-9\" class=\"sk-toggleable__label sk-toggleable__label-arrow\">LGBMClassifier</label><div class=\"sk-toggleable__content\"><pre>LGBMClassifier(max_depth=12, n_estimators=20, random_state=77)</pre></div></div></div></div></div>"
      ],
      "text/plain": [
       "LGBMClassifier(max_depth=12, n_estimators=20, random_state=77)"
      ]
     },
     "execution_count": 96,
     "metadata": {},
     "output_type": "execute_result"
    }
   ],
   "source": [
    "# 모델 구축\n",
    "\n",
    "lgbm_deleted_final = LGBMClassifier(random_state=77,\n",
    "                                 n_estimators=n_estimator,\n",
    "                                 max_depth=n_depth)\n",
    "\n",
    "lgbm_deleted_final.fit(X_train_deleted, y_train_deleted)"
   ]
  },
  {
   "cell_type": "markdown",
   "id": "af1761c6",
   "metadata": {},
   "source": [
    "### 결측치 대체 모델"
   ]
  },
  {
   "cell_type": "code",
   "execution_count": 82,
   "id": "e475a731",
   "metadata": {
    "scrolled": true
   },
   "outputs": [
    {
     "name": "stdout",
     "output_type": "stream",
     "text": [
      "    n_estimators  TrainScore  TestScore\n",
      "0              5      0.7713     0.7715\n",
      "1             10      0.8373     0.8381\n",
      "2             15      0.8626     0.8626\n",
      "3             20      0.8786     0.8778\n",
      "4             25      0.8925     0.8921\n",
      "5             30      0.9033     0.9027\n",
      "6             35      0.9115     0.9108\n",
      "7             40      0.9200     0.9193\n",
      "8             45      0.9272     0.9268\n",
      "9             50      0.9325     0.9319\n",
      "10            55      0.9384     0.9377\n",
      "11            60      0.9423     0.9412\n",
      "12            65      0.9467     0.9454\n",
      "13            70      0.9500     0.9484\n",
      "14            75      0.9537     0.9522\n",
      "15            80      0.9561     0.9544\n",
      "16            85      0.9590     0.9575\n",
      "17            90      0.9617     0.9600\n",
      "18            95      0.9637     0.9620\n"
     ]
    },
    {
     "data": {
      "image/png": "[encoded data removed]",
      "text/plain": [
       "<Figure size 432x288 with 1 Axes>"
      ]
     },
     "metadata": {
      "needs_background": "light"
     },
     "output_type": "display_data"
    }
   ],
   "source": [
    "# 트리 개수 튜닝\n",
    "\n",
    "n_estimator_min = 1\n",
    "n_estimator_max = 20\n",
    "\n",
    "optimi_estimator(algorithm, algorithm_name, \n",
    "                 X_train, y_train, X_test, y_test, \n",
    "                 n_estimator_min, n_estimator_max)"
   ]
  },
  {
   "cell_type": "code",
   "execution_count": 83,
   "id": "bca5e1b6",
   "metadata": {},
   "outputs": [],
   "source": [
    "n_estimator = 95"
   ]
  },
  {
   "cell_type": "code",
   "execution_count": 84,
   "id": "dd5098f9",
   "metadata": {
    "scrolled": true
   },
   "outputs": [
    {
     "name": "stdout",
     "output_type": "stream",
     "text": [
      "    depth  TrainScore  TestScore\n",
      "0       1      0.7338     0.7346\n",
      "1       2      0.8334     0.8326\n",
      "2       3      0.8777     0.8772\n",
      "3       4      0.9167     0.9157\n",
      "4       5      0.9440     0.9420\n",
      "5       6      0.9550     0.9528\n",
      "6       7      0.9582     0.9568\n",
      "7       8      0.9605     0.9588\n",
      "8       9      0.9615     0.9600\n",
      "9      10      0.9620     0.9605\n",
      "10     11      0.9622     0.9604\n",
      "11     12      0.9629     0.9617\n",
      "12     13      0.9633     0.9617\n",
      "13     14      0.9636     0.9620\n"
     ]
    },
    {
     "data": {
      "image/png": "[encoded data removed]",
      "text/plain": [
       "<Figure size 432x288 with 1 Axes>"
      ]
     },
     "metadata": {
      "needs_background": "light"
     },
     "output_type": "display_data"
    }
   ],
   "source": [
    "# 최대 깊이 튜닝\n",
    "\n",
    "depth_min = 1\n",
    "depth_max = 15\n",
    "optimi_maxdepth(algorithm, algorithm_name, \n",
    "                X_train, y_train, X_test, y_test, \n",
    "                depth_min, depth_max, n_estimator)"
   ]
  },
  {
   "cell_type": "code",
   "execution_count": 85,
   "id": "512c196c",
   "metadata": {},
   "outputs": [],
   "source": [
    "n_depth = 12"
   ]
  },
  {
   "cell_type": "code",
   "execution_count": 88,
   "id": "c089d1fc",
   "metadata": {},
   "outputs": [
    {
     "data": {
      "text/html": [
       "<style>#sk-container-id-8 {color: black;background-color: white;}#sk-container-id-8 pre{padding: 0;}#sk-container-id-8 div.sk-toggleable {background-color: white;}#sk-container-id-8 label.sk-toggleable__label {cursor: pointer;display: block;width: 100%;margin-bottom: 0;padding: 0.3em;box-sizing: border-box;text-align: center;}#sk-container-id-8 label.sk-toggleable__label-arrow:before {content: \"▸\";float: left;margin-right: 0.25em;color: #696969;}#sk-container-id-8 label.sk-toggleable__label-arrow:hover:before {color: black;}#sk-container-id-8 div.sk-estimator:hover label.sk-toggleable__label-arrow:before {color: black;}#sk-container-id-8 div.sk-toggleable__content {max-height: 0;max-width: 0;overflow: hidden;text-align: left;background-color: #f0f8ff;}#sk-container-id-8 div.sk-toggleable__content pre {margin: 0.2em;color: black;border-radius: 0.25em;background-color: #f0f8ff;}#sk-container-id-8 input.sk-toggleable__control:checked~div.sk-toggleable__content {max-height: 200px;max-width: 100%;overflow: auto;}#sk-container-id-8 input.sk-toggleable__control:checked~label.sk-toggleable__label-arrow:before {content: \"▾\";}#sk-container-id-8 div.sk-estimator input.sk-toggleable__control:checked~label.sk-toggleable__label {background-color: #d4ebff;}#sk-container-id-8 div.sk-label input.sk-toggleable__control:checked~label.sk-toggleable__label {background-color: #d4ebff;}#sk-container-id-8 input.sk-hidden--visually {border: 0;clip: rect(1px 1px 1px 1px);clip: rect(1px, 1px, 1px, 1px);height: 1px;margin: -1px;overflow: hidden;padding: 0;position: absolute;width: 1px;}#sk-container-id-8 div.sk-estimator {font-family: monospace;background-color: #f0f8ff;border: 1px dotted black;border-radius: 0.25em;box-sizing: border-box;margin-bottom: 0.5em;}#sk-container-id-8 div.sk-estimator:hover {background-color: #d4ebff;}#sk-container-id-8 div.sk-parallel-item::after {content: \"\";width: 100%;border-bottom: 1px solid gray;flex-grow: 1;}#sk-container-id-8 div.sk-label:hover label.sk-toggleable__label {background-color: #d4ebff;}#sk-container-id-8 div.sk-serial::before {content: \"\";position: absolute;border-left: 1px solid gray;box-sizing: border-box;top: 0;bottom: 0;left: 50%;z-index: 0;}#sk-container-id-8 div.sk-serial {display: flex;flex-direction: column;align-items: center;background-color: white;padding-right: 0.2em;padding-left: 0.2em;position: relative;}#sk-container-id-8 div.sk-item {position: relative;z-index: 1;}#sk-container-id-8 div.sk-parallel {display: flex;align-items: stretch;justify-content: center;background-color: white;position: relative;}#sk-container-id-8 div.sk-item::before, #sk-container-id-8 div.sk-parallel-item::before {content: \"\";position: absolute;border-left: 1px solid gray;box-sizing: border-box;top: 0;bottom: 0;left: 50%;z-index: -1;}#sk-container-id-8 div.sk-parallel-item {display: flex;flex-direction: column;z-index: 1;position: relative;background-color: white;}#sk-container-id-8 div.sk-parallel-item:first-child::after {align-self: flex-end;width: 50%;}#sk-container-id-8 div.sk-parallel-item:last-child::after {align-self: flex-start;width: 50%;}#sk-container-id-8 div.sk-parallel-item:only-child::after {width: 0;}#sk-container-id-8 div.sk-dashed-wrapped {border: 1px dashed gray;margin: 0 0.4em 0.5em 0.4em;box-sizing: border-box;padding-bottom: 0.4em;background-color: white;}#sk-container-id-8 div.sk-label label {font-family: monospace;font-weight: bold;display: inline-block;line-height: 1.2em;}#sk-container-id-8 div.sk-label-container {text-align: center;}#sk-container-id-8 div.sk-container {/* jupyter's `normalize.less` sets `[hidden] { display: none; }` but bootstrap.min.css set `[hidden] { display: none !important; }` so we also need the `!important` here to be able to override the default hidden behavior on the sphinx rendered scikit-learn.org. See: https://github.com/scikit-learn/scikit-learn/issues/21755 */display: inline-block !important;position: relative;}#sk-container-id-8 div.sk-text-repr-fallback {display: none;}</style><div id=\"sk-container-id-8\" class=\"sk-top-container\"><div class=\"sk-text-repr-fallback\"><pre>LGBMClassifier(max_depth=12, n_estimators=95, random_state=77)</pre><b>In a Jupyter environment, please rerun this cell to show the HTML representation or trust the notebook. <br />On GitHub, the HTML representation is unable to render, please try loading this page with nbviewer.org.</b></div><div class=\"sk-container\" hidden><div class=\"sk-item\"><div class=\"sk-estimator sk-toggleable\"><input class=\"sk-toggleable__control sk-hidden--visually\" id=\"sk-estimator-id-8\" type=\"checkbox\" checked><label for=\"sk-estimator-id-8\" class=\"sk-toggleable__label sk-toggleable__label-arrow\">LGBMClassifier</label><div class=\"sk-toggleable__content\"><pre>LGBMClassifier(max_depth=12, n_estimators=95, random_state=77)</pre></div></div></div></div></div>"
      ],
      "text/plain": [
       "LGBMClassifier(max_depth=12, n_estimators=95, random_state=77)"
      ]
     },
     "execution_count": 88,
     "metadata": {},
     "output_type": "execute_result"
    }
   ],
   "source": [
    "# 모델 구축\n",
    "\n",
    "lgbm_final = LGBMClassifier(random_state=77,\n",
    "                                 n_estimators=n_estimator,\n",
    "                                 max_depth=n_depth)\n",
    "\n",
    "lgbm_final.fit(X_train, y_train)"
   ]
  },
  {
   "cell_type": "code",
   "execution_count": 167,
   "id": "b4a4ff7a",
   "metadata": {},
   "outputs": [
    {
     "name": "stdout",
     "output_type": "stream",
     "text": [
      "결측치 제거 모델 학습 정확도 :0.979\n",
      "결측치 대체 모델 학습 정확도 :0.963\n"
     ]
    }
   ],
   "source": [
    "# 모델 학습 정확도 파악\n",
    "\n",
    "print(f'결측치 제거 모델 학습 정확도 :{lgbm_deleted_final.score(X_train_deleted, y_train_deleted).round(3)}')\n",
    "print(f'결측치 대체 모델 학습 정확도 :{lgbm_final.score(X_train, y_train).round(3)}')"
   ]
  },
  {
   "cell_type": "code",
   "execution_count": 103,
   "id": "c83b147b",
   "metadata": {},
   "outputs": [],
   "source": [
    "# 결측치 제거 최종 모델 예측값\n",
    "lgbm_deleted_final_predict = lgbm_deleted_final.predict(X_test_deleted)"
   ]
  },
  {
   "cell_type": "code",
   "execution_count": 90,
   "id": "d7f74e17",
   "metadata": {},
   "outputs": [],
   "source": [
    "# 결측치 대체 최종 모델 예측값\n",
    "lgbm_final_predict = lgbm_final.predict(X_test)"
   ]
  },
  {
   "cell_type": "code",
   "execution_count": 168,
   "id": "bc44deb7",
   "metadata": {},
   "outputs": [
    {
     "name": "stdout",
     "output_type": "stream",
     "text": [
      "결측치 제거 모델 리포트 : \n",
      "               precision    recall  f1-score   support\n",
      "\n",
      "           0       0.98      1.00      0.99    160175\n",
      "           1       0.98      0.97      0.97    107609\n",
      "           2       0.99      0.91      0.95     29299\n",
      "           3       0.87      0.89      0.88      1371\n",
      "           4       0.37      0.68      0.48       162\n",
      "\n",
      "    accuracy                           0.98    298616\n",
      "   macro avg       0.84      0.89      0.85    298616\n",
      "weighted avg       0.98      0.98      0.98    298616\n",
      " \n",
      "\n",
      "결측치 대체 모델 리포트 : \n",
      "               precision    recall  f1-score   support\n",
      "\n",
      "           0       0.99      1.00      0.99    128182\n",
      "           1       0.91      0.93      0.92     28265\n",
      "           2       0.87      0.85      0.86     18508\n",
      "           3       0.89      0.82      0.85     10946\n",
      "           4       0.95      0.96      0.96     10040\n",
      "\n",
      "    accuracy                           0.96    195941\n",
      "   macro avg       0.92      0.91      0.92    195941\n",
      "weighted avg       0.96      0.96      0.96    195941\n",
      " \n",
      "\n"
     ]
    }
   ],
   "source": [
    "# 결측치 제거 최종 모델 리포트\n",
    "lgbm_deleted_final_report = classification_report(y_test_deleted, lgbm_deleted_final_predict)\n",
    "\n",
    "print(f'결측치 제거 모델 리포트 : \\n {lgbm_deleted_final_report} \\n')\n",
    "\n",
    "# 결측치 대체 최종 모델 리포트\n",
    "lgbm_final_report = classification_report(y_test, lgbm_final_predict)\n",
    "\n",
    "print(f'결측치 대체 모델 리포트 : \\n {lgbm_final_report} \\n')"
   ]
  },
  {
   "cell_type": "markdown",
   "id": "8ad8c4d4",
   "metadata": {},
   "source": [
    "<center>\n",
    "    LGBM 모델 평가</br>\n",
    "\n",
    "|결측치 처리 방법|정확도|macro avg of f1-score|weighted avg of f1-score|\n",
    "|---|---|---|---|\n",
    "|결측치 제거|0.98|0.72|0.98|\n",
    "|결측치 대체|0.99|0.97|0.99|</center>\n",
    "\n",
    "<center>\n",
    "    LGBM 튜닝 후 모델 평가</br>\n",
    "\n",
    "|결측치 처리 방법|정확도|macro avg of f1-score|weighted avg of f1-score|\n",
    "|---|---|---|---|\n",
    "|결측치 제거|0.98|0.85|0.98|\n",
    "|결측치 대체|0.96|0.92|0.96|</center>"
   ]
  },
  {
   "cell_type": "markdown",
   "id": "8a8309d6",
   "metadata": {},
   "source": [
    "결측치 제거 모델에 비해 결측치 대체 모델이 성능이 더 좋음 "
   ]
  },
  {
   "cell_type": "markdown",
   "id": "eb0efff2",
   "metadata": {},
   "source": [
    "## XGB 모델 튜닝"
   ]
  },
  {
   "cell_type": "markdown",
   "id": "db4b4ed2",
   "metadata": {},
   "source": [
    "### 결측치 제거 모델"
   ]
  },
  {
   "cell_type": "code",
   "execution_count": 105,
   "id": "0a77c27e",
   "metadata": {},
   "outputs": [],
   "source": [
    "algorithm = XGBClassifier\n",
    "algorithm_name = 'xgb'"
   ]
  },
  {
   "cell_type": "code",
   "execution_count": 106,
   "id": "2fc3ebce",
   "metadata": {
    "scrolled": true
   },
   "outputs": [
    {
     "name": "stdout",
     "output_type": "stream",
     "text": [
      "    n_estimators  TrainScore  TestScore\n",
      "0              5      0.9617     0.9617\n",
      "1             10      0.9816     0.9816\n",
      "2             15      0.9891     0.9886\n",
      "3             20      0.9918     0.9914\n",
      "4             25      0.9939     0.9934\n",
      "5             30      0.9959     0.9954\n",
      "6             35      0.9978     0.9973\n",
      "7             40      0.9989     0.9985\n",
      "8             45      0.9992     0.9988\n",
      "9             50      0.9994     0.9990\n",
      "10            55      0.9996     0.9992\n",
      "11            60      0.9997     0.9994\n",
      "12            65      0.9998     0.9995\n",
      "13            70      0.9999     0.9996\n",
      "14            75      0.9999     0.9996\n",
      "15            80      0.9999     0.9997\n",
      "16            85      0.9999     0.9997\n",
      "17            90      1.0000     0.9997\n",
      "18            95      1.0000     0.9997\n"
     ]
    },
    {
     "data": {
      "image/png": "[encoded data removed]",
      "text/plain": [
       "<Figure size 432x288 with 1 Axes>"
      ]
     },
     "metadata": {
      "needs_background": "light"
     },
     "output_type": "display_data"
    }
   ],
   "source": [
    "# 트리 개수 튜닝\n",
    "\n",
    "n_estimator_min = 1\n",
    "n_estimator_max = 20\n",
    "\n",
    "optimi_estimator(algorithm, algorithm_name, \n",
    "                 X_train_deleted, y_train_deleted, X_test_deleted, y_test_deleted, \n",
    "                 n_estimator_min, n_estimator_max)"
   ]
  },
  {
   "cell_type": "code",
   "execution_count": 107,
   "id": "fdaefc85",
   "metadata": {},
   "outputs": [],
   "source": [
    "n_estimator = 80"
   ]
  },
  {
   "cell_type": "code",
   "execution_count": 108,
   "id": "b0b62303",
   "metadata": {
    "scrolled": true
   },
   "outputs": [
    {
     "name": "stdout",
     "output_type": "stream",
     "text": [
      "    depth  TrainScore  TestScore\n",
      "0       1      0.8955     0.8956\n",
      "1       2      0.9705     0.9703\n",
      "2       3      0.9860     0.9857\n",
      "3       4      0.9955     0.9948\n",
      "4       5      0.9995     0.9991\n",
      "5       6      0.9999     0.9997\n",
      "6       7      1.0000     0.9998\n",
      "7       8      1.0000     0.9998\n",
      "8       9      1.0000     0.9998\n",
      "9      10      1.0000     0.9998\n",
      "10     11      1.0000     0.9997\n",
      "11     12      1.0000     0.9997\n",
      "12     13      1.0000     0.9997\n",
      "13     14      1.0000     0.9996\n"
     ]
    },
    {
     "data": {
      "image/png": "[encoded data removed]",
      "text/plain": [
       "<Figure size 432x288 with 1 Axes>"
      ]
     },
     "metadata": {
      "needs_background": "light"
     },
     "output_type": "display_data"
    }
   ],
   "source": [
    "# 최대 깊이 튜닝\n",
    "\n",
    "depth_min = 1\n",
    "depth_max = 15\n",
    "optimi_maxdepth(algorithm, algorithm_name, \n",
    "                X_train_deleted, y_train_deleted, X_test_deleted, y_test_deleted, \n",
    "                depth_min, depth_max, n_estimator)"
   ]
  },
  {
   "cell_type": "code",
   "execution_count": 144,
   "id": "ad6e92cc",
   "metadata": {},
   "outputs": [],
   "source": [
    "n_depth = 6"
   ]
  },
  {
   "cell_type": "code",
   "execution_count": 145,
   "id": "a0cdf1fb",
   "metadata": {},
   "outputs": [
    {
     "data": {
      "text/html": [
       "<style>#sk-container-id-17 {color: black;background-color: white;}#sk-container-id-17 pre{padding: 0;}#sk-container-id-17 div.sk-toggleable {background-color: white;}#sk-container-id-17 label.sk-toggleable__label {cursor: pointer;display: block;width: 100%;margin-bottom: 0;padding: 0.3em;box-sizing: border-box;text-align: center;}#sk-container-id-17 label.sk-toggleable__label-arrow:before {content: \"▸\";float: left;margin-right: 0.25em;color: #696969;}#sk-container-id-17 label.sk-toggleable__label-arrow:hover:before {color: black;}#sk-container-id-17 div.sk-estimator:hover label.sk-toggleable__label-arrow:before {color: black;}#sk-container-id-17 div.sk-toggleable__content {max-height: 0;max-width: 0;overflow: hidden;text-align: left;background-color: #f0f8ff;}#sk-container-id-17 div.sk-toggleable__content pre {margin: 0.2em;color: black;border-radius: 0.25em;background-color: #f0f8ff;}#sk-container-id-17 input.sk-toggleable__control:checked~div.sk-toggleable__content {max-height: 200px;max-width: 100%;overflow: auto;}#sk-container-id-17 input.sk-toggleable__control:checked~label.sk-toggleable__label-arrow:before {content: \"▾\";}#sk-container-id-17 div.sk-estimator input.sk-toggleable__control:checked~label.sk-toggleable__label {background-color: #d4ebff;}#sk-container-id-17 div.sk-label input.sk-toggleable__control:checked~label.sk-toggleable__label {background-color: #d4ebff;}#sk-container-id-17 input.sk-hidden--visually {border: 0;clip: rect(1px 1px 1px 1px);clip: rect(1px, 1px, 1px, 1px);height: 1px;margin: -1px;overflow: hidden;padding: 0;position: absolute;width: 1px;}#sk-container-id-17 div.sk-estimator {font-family: monospace;background-color: #f0f8ff;border: 1px dotted black;border-radius: 0.25em;box-sizing: border-box;margin-bottom: 0.5em;}#sk-container-id-17 div.sk-estimator:hover {background-color: #d4ebff;}#sk-container-id-17 div.sk-parallel-item::after {content: \"\";width: 100%;border-bottom: 1px solid gray;flex-grow: 1;}#sk-container-id-17 div.sk-label:hover label.sk-toggleable__label {background-color: #d4ebff;}#sk-container-id-17 div.sk-serial::before {content: \"\";position: absolute;border-left: 1px solid gray;box-sizing: border-box;top: 0;bottom: 0;left: 50%;z-index: 0;}#sk-container-id-17 div.sk-serial {display: flex;flex-direction: column;align-items: center;background-color: white;padding-right: 0.2em;padding-left: 0.2em;position: relative;}#sk-container-id-17 div.sk-item {position: relative;z-index: 1;}#sk-container-id-17 div.sk-parallel {display: flex;align-items: stretch;justify-content: center;background-color: white;position: relative;}#sk-container-id-17 div.sk-item::before, #sk-container-id-17 div.sk-parallel-item::before {content: \"\";position: absolute;border-left: 1px solid gray;box-sizing: border-box;top: 0;bottom: 0;left: 50%;z-index: -1;}#sk-container-id-17 div.sk-parallel-item {display: flex;flex-direction: column;z-index: 1;position: relative;background-color: white;}#sk-container-id-17 div.sk-parallel-item:first-child::after {align-self: flex-end;width: 50%;}#sk-container-id-17 div.sk-parallel-item:last-child::after {align-self: flex-start;width: 50%;}#sk-container-id-17 div.sk-parallel-item:only-child::after {width: 0;}#sk-container-id-17 div.sk-dashed-wrapped {border: 1px dashed gray;margin: 0 0.4em 0.5em 0.4em;box-sizing: border-box;padding-bottom: 0.4em;background-color: white;}#sk-container-id-17 div.sk-label label {font-family: monospace;font-weight: bold;display: inline-block;line-height: 1.2em;}#sk-container-id-17 div.sk-label-container {text-align: center;}#sk-container-id-17 div.sk-container {/* jupyter's `normalize.less` sets `[hidden] { display: none; }` but bootstrap.min.css set `[hidden] { display: none !important; }` so we also need the `!important` here to be able to override the default hidden behavior on the sphinx rendered scikit-learn.org. See: https://github.com/scikit-learn/scikit-learn/issues/21755 */display: inline-block !important;position: relative;}#sk-container-id-17 div.sk-text-repr-fallback {display: none;}</style><div id=\"sk-container-id-17\" class=\"sk-top-container\"><div class=\"sk-text-repr-fallback\"><pre>XGBClassifier(base_score=0.5, booster=&#x27;gbtree&#x27;, callbacks=None,\n",
       "              colsample_bylevel=1, colsample_bynode=1, colsample_bytree=1,\n",
       "              early_stopping_rounds=None, enable_categorical=False, eta=0.1,\n",
       "              eval_metric=None, gamma=0, gpu_id=-1, grow_policy=&#x27;depthwise&#x27;,\n",
       "              importance_type=None, interaction_constraints=&#x27;&#x27;,\n",
       "              learning_rate=0.100000001, max_bin=256, max_cat_to_onehot=4,\n",
       "              max_delta_step=0, max_depth=6, max_leaves=0, min_child_weight=1,\n",
       "              missing=nan, monotone_constraints=&#x27;()&#x27;, n_estimators=40, n_jobs=0,\n",
       "              num_parallel_tree=1, objective=&#x27;multi:softprob&#x27;, predictor=&#x27;auto&#x27;,\n",
       "              random_state=77, ...)</pre><b>In a Jupyter environment, please rerun this cell to show the HTML representation or trust the notebook. <br />On GitHub, the HTML representation is unable to render, please try loading this page with nbviewer.org.</b></div><div class=\"sk-container\" hidden><div class=\"sk-item\"><div class=\"sk-estimator sk-toggleable\"><input class=\"sk-toggleable__control sk-hidden--visually\" id=\"sk-estimator-id-17\" type=\"checkbox\" checked><label for=\"sk-estimator-id-17\" class=\"sk-toggleable__label sk-toggleable__label-arrow\">XGBClassifier</label><div class=\"sk-toggleable__content\"><pre>XGBClassifier(base_score=0.5, booster=&#x27;gbtree&#x27;, callbacks=None,\n",
       "              colsample_bylevel=1, colsample_bynode=1, colsample_bytree=1,\n",
       "              early_stopping_rounds=None, enable_categorical=False, eta=0.1,\n",
       "              eval_metric=None, gamma=0, gpu_id=-1, grow_policy=&#x27;depthwise&#x27;,\n",
       "              importance_type=None, interaction_constraints=&#x27;&#x27;,\n",
       "              learning_rate=0.100000001, max_bin=256, max_cat_to_onehot=4,\n",
       "              max_delta_step=0, max_depth=6, max_leaves=0, min_child_weight=1,\n",
       "              missing=nan, monotone_constraints=&#x27;()&#x27;, n_estimators=40, n_jobs=0,\n",
       "              num_parallel_tree=1, objective=&#x27;multi:softprob&#x27;, predictor=&#x27;auto&#x27;,\n",
       "              random_state=77, ...)</pre></div></div></div></div></div>"
      ],
      "text/plain": [
       "XGBClassifier(base_score=0.5, booster='gbtree', callbacks=None,\n",
       "              colsample_bylevel=1, colsample_bynode=1, colsample_bytree=1,\n",
       "              early_stopping_rounds=None, enable_categorical=False, eta=0.1,\n",
       "              eval_metric=None, gamma=0, gpu_id=-1, grow_policy='depthwise',\n",
       "              importance_type=None, interaction_constraints='',\n",
       "              learning_rate=0.100000001, max_bin=256, max_cat_to_onehot=4,\n",
       "              max_delta_step=0, max_depth=6, max_leaves=0, min_child_weight=1,\n",
       "              missing=nan, monotone_constraints='()', n_estimators=40, n_jobs=0,\n",
       "              num_parallel_tree=1, objective='multi:softprob', predictor='auto',\n",
       "              random_state=77, ...)"
      ]
     },
     "execution_count": 145,
     "metadata": {},
     "output_type": "execute_result"
    }
   ],
   "source": [
    "# 모델 구축\n",
    "\n",
    "xgb_deleted_final = XGBClassifier(random_state=77,\n",
    "                                 n_estimators=n_estimator,\n",
    "                                 max_depth=n_depth,\n",
    "                                 eta=0.1)\n",
    "\n",
    "xgb_deleted_final.fit(X_train_deleted, y_train_deleted)"
   ]
  },
  {
   "cell_type": "markdown",
   "id": "43a779de",
   "metadata": {},
   "source": [
    "### 결측치 대체 모델"
   ]
  },
  {
   "cell_type": "code",
   "execution_count": 111,
   "id": "66c9bbd5",
   "metadata": {
    "scrolled": true
   },
   "outputs": [
    {
     "name": "stdout",
     "output_type": "stream",
     "text": [
      "    n_estimators  TrainScore  TestScore\n",
      "0              5      0.8511     0.8506\n",
      "1             10      0.8777     0.8764\n",
      "2             15      0.8996     0.8982\n",
      "3             20      0.9177     0.9162\n",
      "4             25      0.9312     0.9293\n",
      "5             30      0.9419     0.9393\n",
      "6             35      0.9506     0.9481\n",
      "7             40      0.9569     0.9536\n",
      "8             45      0.9618     0.9588\n",
      "9             50      0.9655     0.9622\n",
      "10            55      0.9691     0.9653\n",
      "11            60      0.9725     0.9684\n",
      "12            65      0.9759     0.9716\n",
      "13            70      0.9782     0.9739\n",
      "14            75      0.9811     0.9764\n",
      "15            80      0.9829     0.9785\n",
      "16            85      0.9845     0.9804\n",
      "17            90      0.9858     0.9817\n",
      "18            95      0.9870     0.9830\n"
     ]
    },
    {
     "data": {
      "image/png": "[encoded data removed]",
      "text/plain": [
       "<Figure size 432x288 with 1 Axes>"
      ]
     },
     "metadata": {
      "needs_background": "light"
     },
     "output_type": "display_data"
    }
   ],
   "source": [
    "# 트리 개수 튜닝\n",
    "\n",
    "n_estimator_min = 1\n",
    "n_estimator_max = 20\n",
    "\n",
    "optimi_estimator(algorithm, algorithm_name, \n",
    "                 X_train, y_train, X_test, y_test, \n",
    "                 n_estimator_min, n_estimator_max)"
   ]
  },
  {
   "cell_type": "code",
   "execution_count": 113,
   "id": "189dda80",
   "metadata": {},
   "outputs": [],
   "source": [
    "n_estimator = 40"
   ]
  },
  {
   "cell_type": "code",
   "execution_count": 114,
   "id": "ec381098",
   "metadata": {
    "scrolled": true
   },
   "outputs": [
    {
     "name": "stdout",
     "output_type": "stream",
     "text": [
      "    depth  TrainScore  TestScore\n",
      "0       1      0.7208     0.7212\n",
      "1       2      0.8197     0.8192\n",
      "2       3      0.8635     0.8633\n",
      "3       4      0.9041     0.9027\n",
      "4       5      0.9354     0.9331\n",
      "5       6      0.9569     0.9536\n",
      "6       7      0.9740     0.9683\n",
      "7       8      0.9863     0.9791\n",
      "8       9      0.9939     0.9846\n",
      "9      10      0.9980     0.9876\n",
      "10     11      0.9995     0.9885\n",
      "11     12      0.9999     0.9887\n",
      "12     13      1.0000     0.9889\n",
      "13     14      1.0000     0.9888\n"
     ]
    },
    {
     "data": {
      "image/png": "[encoded data removed]",
      "text/plain": [
       "<Figure size 432x288 with 1 Axes>"
      ]
     },
     "metadata": {
      "needs_background": "light"
     },
     "output_type": "display_data"
    }
   ],
   "source": [
    "# 최대 깊이 튜닝\n",
    "\n",
    "depth_min = 1\n",
    "depth_max = 15\n",
    "optimi_maxdepth(algorithm, algorithm_name, \n",
    "                X_train, y_train, X_test, y_test, \n",
    "                depth_min, depth_max, n_estimator)"
   ]
  },
  {
   "cell_type": "code",
   "execution_count": 115,
   "id": "0762c255",
   "metadata": {},
   "outputs": [],
   "source": [
    "n_depth = 12"
   ]
  },
  {
   "cell_type": "code",
   "execution_count": 125,
   "id": "e6e39a39",
   "metadata": {},
   "outputs": [
    {
     "data": {
      "text/html": [
       "<style>#sk-container-id-13 {color: black;background-color: white;}#sk-container-id-13 pre{padding: 0;}#sk-container-id-13 div.sk-toggleable {background-color: white;}#sk-container-id-13 label.sk-toggleable__label {cursor: pointer;display: block;width: 100%;margin-bottom: 0;padding: 0.3em;box-sizing: border-box;text-align: center;}#sk-container-id-13 label.sk-toggleable__label-arrow:before {content: \"▸\";float: left;margin-right: 0.25em;color: #696969;}#sk-container-id-13 label.sk-toggleable__label-arrow:hover:before {color: black;}#sk-container-id-13 div.sk-estimator:hover label.sk-toggleable__label-arrow:before {color: black;}#sk-container-id-13 div.sk-toggleable__content {max-height: 0;max-width: 0;overflow: hidden;text-align: left;background-color: #f0f8ff;}#sk-container-id-13 div.sk-toggleable__content pre {margin: 0.2em;color: black;border-radius: 0.25em;background-color: #f0f8ff;}#sk-container-id-13 input.sk-toggleable__control:checked~div.sk-toggleable__content {max-height: 200px;max-width: 100%;overflow: auto;}#sk-container-id-13 input.sk-toggleable__control:checked~label.sk-toggleable__label-arrow:before {content: \"▾\";}#sk-container-id-13 div.sk-estimator input.sk-toggleable__control:checked~label.sk-toggleable__label {background-color: #d4ebff;}#sk-container-id-13 div.sk-label input.sk-toggleable__control:checked~label.sk-toggleable__label {background-color: #d4ebff;}#sk-container-id-13 input.sk-hidden--visually {border: 0;clip: rect(1px 1px 1px 1px);clip: rect(1px, 1px, 1px, 1px);height: 1px;margin: -1px;overflow: hidden;padding: 0;position: absolute;width: 1px;}#sk-container-id-13 div.sk-estimator {font-family: monospace;background-color: #f0f8ff;border: 1px dotted black;border-radius: 0.25em;box-sizing: border-box;margin-bottom: 0.5em;}#sk-container-id-13 div.sk-estimator:hover {background-color: #d4ebff;}#sk-container-id-13 div.sk-parallel-item::after {content: \"\";width: 100%;border-bottom: 1px solid gray;flex-grow: 1;}#sk-container-id-13 div.sk-label:hover label.sk-toggleable__label {background-color: #d4ebff;}#sk-container-id-13 div.sk-serial::before {content: \"\";position: absolute;border-left: 1px solid gray;box-sizing: border-box;top: 0;bottom: 0;left: 50%;z-index: 0;}#sk-container-id-13 div.sk-serial {display: flex;flex-direction: column;align-items: center;background-color: white;padding-right: 0.2em;padding-left: 0.2em;position: relative;}#sk-container-id-13 div.sk-item {position: relative;z-index: 1;}#sk-container-id-13 div.sk-parallel {display: flex;align-items: stretch;justify-content: center;background-color: white;position: relative;}#sk-container-id-13 div.sk-item::before, #sk-container-id-13 div.sk-parallel-item::before {content: \"\";position: absolute;border-left: 1px solid gray;box-sizing: border-box;top: 0;bottom: 0;left: 50%;z-index: -1;}#sk-container-id-13 div.sk-parallel-item {display: flex;flex-direction: column;z-index: 1;position: relative;background-color: white;}#sk-container-id-13 div.sk-parallel-item:first-child::after {align-self: flex-end;width: 50%;}#sk-container-id-13 div.sk-parallel-item:last-child::after {align-self: flex-start;width: 50%;}#sk-container-id-13 div.sk-parallel-item:only-child::after {width: 0;}#sk-container-id-13 div.sk-dashed-wrapped {border: 1px dashed gray;margin: 0 0.4em 0.5em 0.4em;box-sizing: border-box;padding-bottom: 0.4em;background-color: white;}#sk-container-id-13 div.sk-label label {font-family: monospace;font-weight: bold;display: inline-block;line-height: 1.2em;}#sk-container-id-13 div.sk-label-container {text-align: center;}#sk-container-id-13 div.sk-container {/* jupyter's `normalize.less` sets `[hidden] { display: none; }` but bootstrap.min.css set `[hidden] { display: none !important; }` so we also need the `!important` here to be able to override the default hidden behavior on the sphinx rendered scikit-learn.org. See: https://github.com/scikit-learn/scikit-learn/issues/21755 */display: inline-block !important;position: relative;}#sk-container-id-13 div.sk-text-repr-fallback {display: none;}</style><div id=\"sk-container-id-13\" class=\"sk-top-container\"><div class=\"sk-text-repr-fallback\"><pre>XGBClassifier(base_score=0.5, booster=&#x27;gbtree&#x27;, callbacks=None,\n",
       "              colsample_bylevel=1, colsample_bynode=1, colsample_bytree=1,\n",
       "              early_stopping_rounds=None, enable_categorical=False, eta=0.01,\n",
       "              eval_metric=None, gamma=0, gpu_id=-1, grow_policy=&#x27;depthwise&#x27;,\n",
       "              importance_type=None, interaction_constraints=&#x27;&#x27;,\n",
       "              learning_rate=0.00999999978, max_bin=256, max_cat_to_onehot=4,\n",
       "              max_delta_step=0, max_depth=12, max_leaves=0, min_child_weight=1,\n",
       "              missing=nan, monotone_constraints=&#x27;()&#x27;, n_estimators=40, n_jobs=0,\n",
       "              num_parallel_tree=1, objective=&#x27;multi:softprob&#x27;, predictor=&#x27;auto&#x27;,\n",
       "              random_state=77, ...)</pre><b>In a Jupyter environment, please rerun this cell to show the HTML representation or trust the notebook. <br />On GitHub, the HTML representation is unable to render, please try loading this page with nbviewer.org.</b></div><div class=\"sk-container\" hidden><div class=\"sk-item\"><div class=\"sk-estimator sk-toggleable\"><input class=\"sk-toggleable__control sk-hidden--visually\" id=\"sk-estimator-id-13\" type=\"checkbox\" checked><label for=\"sk-estimator-id-13\" class=\"sk-toggleable__label sk-toggleable__label-arrow\">XGBClassifier</label><div class=\"sk-toggleable__content\"><pre>XGBClassifier(base_score=0.5, booster=&#x27;gbtree&#x27;, callbacks=None,\n",
       "              colsample_bylevel=1, colsample_bynode=1, colsample_bytree=1,\n",
       "              early_stopping_rounds=None, enable_categorical=False, eta=0.01,\n",
       "              eval_metric=None, gamma=0, gpu_id=-1, grow_policy=&#x27;depthwise&#x27;,\n",
       "              importance_type=None, interaction_constraints=&#x27;&#x27;,\n",
       "              learning_rate=0.00999999978, max_bin=256, max_cat_to_onehot=4,\n",
       "              max_delta_step=0, max_depth=12, max_leaves=0, min_child_weight=1,\n",
       "              missing=nan, monotone_constraints=&#x27;()&#x27;, n_estimators=40, n_jobs=0,\n",
       "              num_parallel_tree=1, objective=&#x27;multi:softprob&#x27;, predictor=&#x27;auto&#x27;,\n",
       "              random_state=77, ...)</pre></div></div></div></div></div>"
      ],
      "text/plain": [
       "XGBClassifier(base_score=0.5, booster='gbtree', callbacks=None,\n",
       "              colsample_bylevel=1, colsample_bynode=1, colsample_bytree=1,\n",
       "              early_stopping_rounds=None, enable_categorical=False, eta=0.01,\n",
       "              eval_metric=None, gamma=0, gpu_id=-1, grow_policy='depthwise',\n",
       "              importance_type=None, interaction_constraints='',\n",
       "              learning_rate=0.00999999978, max_bin=256, max_cat_to_onehot=4,\n",
       "              max_delta_step=0, max_depth=12, max_leaves=0, min_child_weight=1,\n",
       "              missing=nan, monotone_constraints='()', n_estimators=40, n_jobs=0,\n",
       "              num_parallel_tree=1, objective='multi:softprob', predictor='auto',\n",
       "              random_state=77, ...)"
      ]
     },
     "execution_count": 125,
     "metadata": {},
     "output_type": "execute_result"
    }
   ],
   "source": [
    "# 모델 구축\n",
    "\n",
    "xgb_final = XGBClassifier(random_state=77,\n",
    "                         n_estimators=n_estimator,\n",
    "                         max_depth=n_depth,\n",
    "                         eta=0.01)\n",
    "\n",
    "xgb_final.fit(X_train, y_train)"
   ]
  },
  {
   "cell_type": "code",
   "execution_count": 169,
   "id": "cded0afb",
   "metadata": {},
   "outputs": [
    {
     "name": "stdout",
     "output_type": "stream",
     "text": [
      "결측치 제거 모델 학습 정확도 :0.986\n",
      "결측치 대체 모델 학습 정확도 :0.971\n"
     ]
    }
   ],
   "source": [
    "# 모델 학습 정확도 파악\n",
    "\n",
    "print(f'결측치 제거 모델 학습 정확도 :{xgb_deleted_final.score(X_train_deleted, y_train_deleted).round(3)}')\n",
    "print(f'결측치 대체 모델 학습 정확도 :{xgb_final.score(X_train, y_train).round(3)}')"
   ]
  },
  {
   "cell_type": "code",
   "execution_count": 150,
   "id": "dfba103f",
   "metadata": {},
   "outputs": [],
   "source": [
    "# 결측치 제거 최종 모델 예측값\n",
    "xgb_deleted_final_predict = xgb_deleted_final.predict(X_test_deleted)"
   ]
  },
  {
   "cell_type": "code",
   "execution_count": 148,
   "id": "f00eefce",
   "metadata": {},
   "outputs": [],
   "source": [
    "# 결측치 대체 최종 모델 예측값\n",
    "xgb_final_predict = xgb_final.predict(X_test)"
   ]
  },
  {
   "cell_type": "code",
   "execution_count": 170,
   "id": "2a3744f1",
   "metadata": {},
   "outputs": [
    {
     "name": "stdout",
     "output_type": "stream",
     "text": [
      "결측치 제거 모델 리포트 : \n",
      "               precision    recall  f1-score   support\n",
      "\n",
      "           0       0.99      1.00      0.99    160175\n",
      "           1       0.98      0.98      0.98    107609\n",
      "           2       0.98      0.94      0.96     29299\n",
      "           3       0.90      0.73      0.81      1371\n",
      "           4       0.92      0.48      0.63       162\n",
      "\n",
      "    accuracy                           0.99    298616\n",
      "   macro avg       0.95      0.83      0.87    298616\n",
      "weighted avg       0.99      0.99      0.99    298616\n",
      " \n",
      "\n",
      "결측치 대체 모델 리포트 : \n",
      "               precision    recall  f1-score   support\n",
      "\n",
      "           0       0.99      0.99      0.99    128182\n",
      "           1       0.92      0.94      0.93     28265\n",
      "           2       0.90      0.87      0.88     18508\n",
      "           3       0.86      0.85      0.85     10946\n",
      "           4       0.94      0.93      0.94     10040\n",
      "\n",
      "    accuracy                           0.96    195941\n",
      "   macro avg       0.92      0.92      0.92    195941\n",
      "weighted avg       0.96      0.96      0.96    195941\n",
      " \n",
      "\n"
     ]
    }
   ],
   "source": [
    "# 결측치 제거 최종 모델 리포트\n",
    "xgb_deleted_final_report = classification_report(y_test_deleted, xgb_deleted_final_predict)\n",
    "\n",
    "print(f'결측치 제거 모델 리포트 : \\n {xgb_deleted_final_report} \\n')\n",
    "\n",
    "# 결측치 대체 최종 모델 리포트\n",
    "xgb_final_report = classification_report(y_test, xgb_final_predict)\n",
    "\n",
    "print(f'결측치 대체 모델 리포트 : \\n {xgb_final_report} \\n')"
   ]
  },
  {
   "cell_type": "markdown",
   "id": "5ab8db1d",
   "metadata": {},
   "source": [
    "<center>\n",
    "    XGBoost 모델 평가</br>\n",
    "\n",
    "|결측치 처리 방법|정확도|macro avg of f1-score|weighted avg of f1-score|\n",
    "|---|---|---|---|\n",
    "|결측치 제거|0.98|0.72|0.98|\n",
    "|결측치 대체|0.99|0.97|0.99|</center>\n",
    "\n",
    "<center>\n",
    "    XGBoost 튜닝 후 모델 평가</br>\n",
    "\n",
    "|결측치 처리 방법|정확도|macro avg of f1-score|weighted avg of f1-score|\n",
    "|---|---|---|---|\n",
    "|결측치 제거|1.00|0.99|1.00|\n",
    "|결측치 대체|0.96|0.92|0.96|</center>"
   ]
  },
  {
   "cell_type": "markdown",
   "id": "1a880ab3",
   "metadata": {},
   "source": [
    "## 모델별 특성 중요도 확인"
   ]
  },
  {
   "cell_type": "code",
   "execution_count": 152,
   "id": "99348b41",
   "metadata": {},
   "outputs": [],
   "source": [
    "# 특성 중요도 확인용 함수\n",
    "def get_top_features(model):\n",
    "    ftr_importances_values = model.feature_importances_\n",
    "    ftr_importances = pd.Series(ftr_importances_values, index=features)\n",
    "    ftr_top10 = ftr_importances.sort_values(ascending=False)[:10]\n",
    "    return ftr_top10\n",
    "\n",
    "# 특성 중요도 시각화 함수\n",
    "def visualize_ftr_importances(models):\n",
    "    fig, axs = plt.subplots(figsize=(24,10),nrows=1, ncols=3)\n",
    "    \n",
    "\n",
    "    for i, model in enumerate(models):\n",
    "        ftr_top10 = get_top_features(model)\n",
    "        axs[i].set_title(model.__class__.__name__+' 특성 중요도', size=25)\n",
    "        for label in (axs[i].get_xticklabels() + axs[i].get_yticklabels()):\n",
    "            label.set_fontsize(22)\n",
    "        sns.barplot(x=ftr_top10.values, y=ftr_top10.index , ax=axs[i])\n",
    "        fig.tight_layout() "
   ]
  },
  {
   "cell_type": "code",
   "execution_count": 163,
   "id": "c547e3e1",
   "metadata": {},
   "outputs": [
    {
     "data": {
      "image/png": "[encoded data removed]",
      "text/plain": [
       "<Figure size 1728x720 with 3 Axes>"
      ]
     },
     "metadata": {
      "needs_background": "light"
     },
     "output_type": "display_data"
    }
   ],
   "source": [
    "models = [rf_final, lgbm_final, xgb_final]\n",
    "\n",
    "visualize_ftr_importances(models)"
   ]
  },
  {
   "cell_type": "code",
   "execution_count": 155,
   "id": "b6b293a3",
   "metadata": {},
   "outputs": [],
   "source": [
    "import eli5 \n",
    "from eli5.sklearn import PermutationImportance "
   ]
  },
  {
   "cell_type": "code",
   "execution_count": 164,
   "id": "484a5a81",
   "metadata": {},
   "outputs": [],
   "source": [
    "# import sklearn\n",
    "# sklearn.metrics.get_scorer_names()"
   ]
  },
  {
   "cell_type": "code",
   "execution_count": 162,
   "id": "ecbabfce",
   "metadata": {
    "scrolled": false
   },
   "outputs": [
    {
     "data": {
      "text/html": [
       "\n",
       "    <style>\n",
       "    table.eli5-weights tr:hover {\n",
       "        filter: brightness(85%);\n",
       "    }\n",
       "</style>\n",
       "\n",
       "\n",
       "\n",
       "    \n",
       "\n",
       "    \n",
       "\n",
       "    \n",
       "\n",
       "    \n",
       "\n",
       "    \n",
       "\n",
       "    \n",
       "\n",
       "\n",
       "    \n",
       "\n",
       "    \n",
       "\n",
       "    \n",
       "\n",
       "    \n",
       "\n",
       "    \n",
       "\n",
       "    \n",
       "\n",
       "\n",
       "    \n",
       "\n",
       "    \n",
       "\n",
       "    \n",
       "\n",
       "    \n",
       "\n",
       "    \n",
       "        <table class=\"eli5-weights eli5-feature-importances\" style=\"border-collapse: collapse; border: none; margin-top: 0em; table-layout: auto;\">\n",
       "    <thead>\n",
       "    <tr style=\"border: none;\">\n",
       "        <th style=\"padding: 0 1em 0 0.5em; text-align: right; border: none;\">Weight</th>\n",
       "        <th style=\"padding: 0 0.5em 0 0.5em; text-align: left; border: none;\">Feature</th>\n",
       "    </tr>\n",
       "    </thead>\n",
       "    <tbody>\n",
       "    \n",
       "        <tr style=\"background-color: hsl(120, 100.00%, 80.00%); border: none;\">\n",
       "            <td style=\"padding: 0 1em 0 0.5em; text-align: right; border: none;\">\n",
       "                0.5015\n",
       "                \n",
       "                    &plusmn; 0.0037\n",
       "                \n",
       "            </td>\n",
       "            <td style=\"padding: 0 0.5em 0 0.5em; text-align: left; border: none;\">\n",
       "                허리신장비율\n",
       "            </td>\n",
       "        </tr>\n",
       "    \n",
       "        <tr style=\"background-color: hsl(120, 100.00%, 82.44%); border: none;\">\n",
       "            <td style=\"padding: 0 1em 0 0.5em; text-align: right; border: none;\">\n",
       "                0.4164\n",
       "                \n",
       "                    &plusmn; 0.0040\n",
       "                \n",
       "            </td>\n",
       "            <td style=\"padding: 0 0.5em 0 0.5em; text-align: left; border: none;\">\n",
       "                식전혈당(공복혈당)\n",
       "            </td>\n",
       "        </tr>\n",
       "    \n",
       "        <tr style=\"background-color: hsl(120, 100.00%, 83.25%); border: none;\">\n",
       "            <td style=\"padding: 0 1em 0 0.5em; text-align: right; border: none;\">\n",
       "                0.3892\n",
       "                \n",
       "                    &plusmn; 0.0017\n",
       "                \n",
       "            </td>\n",
       "            <td style=\"padding: 0 0.5em 0 0.5em; text-align: left; border: none;\">\n",
       "                중성지방\n",
       "            </td>\n",
       "        </tr>\n",
       "    \n",
       "        <tr style=\"background-color: hsl(120, 100.00%, 87.49%); border: none;\">\n",
       "            <td style=\"padding: 0 1em 0 0.5em; text-align: right; border: none;\">\n",
       "                0.2564\n",
       "                \n",
       "                    &plusmn; 0.0021\n",
       "                \n",
       "            </td>\n",
       "            <td style=\"padding: 0 0.5em 0 0.5em; text-align: left; border: none;\">\n",
       "                흡연상태\n",
       "            </td>\n",
       "        </tr>\n",
       "    \n",
       "        <tr style=\"background-color: hsl(120, 100.00%, 88.23%); border: none;\">\n",
       "            <td style=\"padding: 0 1em 0 0.5em; text-align: right; border: none;\">\n",
       "                0.2352\n",
       "                \n",
       "                    &plusmn; 0.0022\n",
       "                \n",
       "            </td>\n",
       "            <td style=\"padding: 0 0.5em 0 0.5em; text-align: left; border: none;\">\n",
       "                음주여부\n",
       "            </td>\n",
       "        </tr>\n",
       "    \n",
       "        <tr style=\"background-color: hsl(120, 100.00%, 89.06%); border: none;\">\n",
       "            <td style=\"padding: 0 1em 0 0.5em; text-align: right; border: none;\">\n",
       "                0.2118\n",
       "                \n",
       "                    &plusmn; 0.0023\n",
       "                \n",
       "            </td>\n",
       "            <td style=\"padding: 0 0.5em 0 0.5em; text-align: left; border: none;\">\n",
       "                HDL 콜레스테롤\n",
       "            </td>\n",
       "        </tr>\n",
       "    \n",
       "        <tr style=\"background-color: hsl(120, 100.00%, 89.60%); border: none;\">\n",
       "            <td style=\"padding: 0 1em 0 0.5em; text-align: right; border: none;\">\n",
       "                0.1971\n",
       "                \n",
       "                    &plusmn; 0.0011\n",
       "                \n",
       "            </td>\n",
       "            <td style=\"padding: 0 0.5em 0 0.5em; text-align: left; border: none;\">\n",
       "                LDL 콜레스테롤\n",
       "            </td>\n",
       "        </tr>\n",
       "    \n",
       "        <tr style=\"background-color: hsl(120, 100.00%, 93.30%); border: none;\">\n",
       "            <td style=\"padding: 0 1em 0 0.5em; text-align: right; border: none;\">\n",
       "                0.1051\n",
       "                \n",
       "                    &plusmn; 0.0017\n",
       "                \n",
       "            </td>\n",
       "            <td style=\"padding: 0 0.5em 0 0.5em; text-align: left; border: none;\">\n",
       "                성별코드\n",
       "            </td>\n",
       "        </tr>\n",
       "    \n",
       "        <tr style=\"background-color: hsl(120, 100.00%, 93.47%); border: none;\">\n",
       "            <td style=\"padding: 0 1em 0 0.5em; text-align: right; border: none;\">\n",
       "                0.1014\n",
       "                \n",
       "                    &plusmn; 0.0016\n",
       "                \n",
       "            </td>\n",
       "            <td style=\"padding: 0 0.5em 0 0.5em; text-align: left; border: none;\">\n",
       "                총 콜레스테롤\n",
       "            </td>\n",
       "        </tr>\n",
       "    \n",
       "        <tr style=\"background-color: hsl(120, 100.00%, 95.08%); border: none;\">\n",
       "            <td style=\"padding: 0 1em 0 0.5em; text-align: right; border: none;\">\n",
       "                0.0677\n",
       "                \n",
       "                    &plusmn; 0.0017\n",
       "                \n",
       "            </td>\n",
       "            <td style=\"padding: 0 0.5em 0 0.5em; text-align: left; border: none;\">\n",
       "                연령대\n",
       "            </td>\n",
       "        </tr>\n",
       "    \n",
       "        <tr style=\"background-color: hsl(120, 100.00%, 97.90%); border: none;\">\n",
       "            <td style=\"padding: 0 1em 0 0.5em; text-align: right; border: none;\">\n",
       "                0.0200\n",
       "                \n",
       "                    &plusmn; 0.0003\n",
       "                \n",
       "            </td>\n",
       "            <td style=\"padding: 0 0.5em 0 0.5em; text-align: left; border: none;\">\n",
       "                이완기 혈압\n",
       "            </td>\n",
       "        </tr>\n",
       "    \n",
       "        <tr style=\"background-color: hsl(120, 100.00%, 98.04%); border: none;\">\n",
       "            <td style=\"padding: 0 1em 0 0.5em; text-align: right; border: none;\">\n",
       "                0.0181\n",
       "                \n",
       "                    &plusmn; 0.0006\n",
       "                \n",
       "            </td>\n",
       "            <td style=\"padding: 0 0.5em 0 0.5em; text-align: left; border: none;\">\n",
       "                수축기 혈압\n",
       "            </td>\n",
       "        </tr>\n",
       "    \n",
       "    \n",
       "    </tbody>\n",
       "</table>\n",
       "    \n",
       "\n",
       "    \n",
       "\n",
       "\n",
       "    \n",
       "\n",
       "    \n",
       "\n",
       "    \n",
       "\n",
       "    \n",
       "\n",
       "    \n",
       "\n",
       "    \n",
       "\n",
       "\n",
       "\n"
      ],
      "text/plain": [
       "<IPython.core.display.HTML object>"
      ]
     },
     "execution_count": 162,
     "metadata": {},
     "output_type": "execute_result"
    }
   ],
   "source": [
    "perm = PermutationImportance(xgb_final, scoring='f1_macro', random_state=77).fit(X_test, y_test) \n",
    "eli5.show_weights(perm, top=15, feature_names=X.columns.tolist())"
   ]
  }
 ],
 "metadata": {
  "kernelspec": {
   "display_name": "Python 3 (ipykernel)",
   "language": "python",
   "name": "python3"
  },
  "language_info": {
   "codemirror_mode": {
    "name": "ipython",
    "version": 3
   },
   "file_extension": ".py",
   "mimetype": "text/x-python",
   "name": "python",
   "nbconvert_exporter": "python",
   "pygments_lexer": "ipython3",
   "version": "3.8.13"
  }
 },
 "nbformat": 4,
 "nbformat_minor": 5
}
